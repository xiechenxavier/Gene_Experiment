{
 "cells": [
  {
   "cell_type": "code",
   "execution_count": 1,
   "metadata": {},
   "outputs": [],
   "source": [
    "import numpy as np\n",
    "from mpl_toolkits.axisartist.parasite_axes import HostAxes, ParasiteAxes\n",
    "import matplotlib.pyplot as plt"
   ]
  },
  {
   "cell_type": "code",
   "execution_count": 2,
   "metadata": {},
   "outputs": [
    {
     "data": {
      "text/plain": [
       "array([ 0,  1,  2,  3,  4,  5,  6,  7,  8,  9, 10, 11, 12, 13, 14, 15, 16,\n",
       "       17, 18, 19, 20, 21, 22, 23, 24, 25, 26, 27, 28, 29])"
      ]
     },
     "execution_count": 2,
     "metadata": {},
     "output_type": "execute_result"
    }
   ],
   "source": [
    "x=np.array([ele for ele in range(30)])\n",
    "x"
   ]
  },
  {
   "cell_type": "code",
   "execution_count": 26,
   "metadata": {},
   "outputs": [],
   "source": [
    "# /home/xiechen/Gene_Experiment\n",
    "with open(\"/home/xiechen/Local_search_GeneConsensus/Result/Simulated_Annealing/SA_G100_80.txt\", \"r\") as f:\n",
    "    data = f.readlines()\n",
    "data1 = [ele.replace('\\n','') for ele in data]\n",
    "# values:\n",
    "valueStr = data1[0].split(' ')\n",
    "values = [1703.21 - float(ele) for ele in valueStr[1:]]\n",
    "# calculation times:\n",
    "simulAnnealtime_Str = data1[1].split(' ')\n",
    "simulAnnealtime = [float(ele) for ele in simulAnnealtime_Str[1:]]"
   ]
  },
  {
   "cell_type": "code",
   "execution_count": 27,
   "metadata": {
    "scrolled": true
   },
   "outputs": [
    {
     "name": "stdout",
     "output_type": "stream",
     "text": [
      "0.48366666666669667\n",
      "1.4751739999999998\n"
     ]
    }
   ],
   "source": [
    "mean_values = sum(values)/len(values)\n",
    "print(mean_values)\n",
    "mean_SAtime = sum(simulAnnealtime)/len(simulAnnealtime)\n",
    "print(mean_SAtime)"
   ]
  },
  {
   "cell_type": "code",
   "execution_count": 85,
   "metadata": {},
   "outputs": [],
   "source": [
    "ALlinfos_SA = {'G10_10':{'mean_distance':0.0,'mean_time':0.003399866666666667},\n",
    "    'G20_5':{'mean_distance':0.0,'mean_time':0.0015126000000000002},\n",
    "    'G20_20':{'mean_distance':0.05666666666666913,'mean_time':0.014964400000000001},\n",
    "    'G30_20':{'mean_distance':0.03123333333333041,'mean_time':0.014569566666666669},\n",
    "    'G30_30':{'mean_distance':0.1889260000000102,'mean_time':0.049603833333333354},\n",
    "    'G50_40':{'mean_distance':0.17736666666664672,'mean_time':0.12670006666666667},\n",
    "    'G300_50':{'mean_distance':0.8896923333332969,'mean_time':0.27975976666666674},\n",
    "    'G100_80':{'mean_distance':0.48366666666669667,'mean_time':1.4751739999999998},\n",
    "    'G200_80':{'mean_distance':0.29800000000006244,'mean_time':1.5160673333333332}\n",
    "}"
   ]
  },
  {
   "cell_type": "code",
   "execution_count": 3,
   "metadata": {},
   "outputs": [],
   "source": [
    "with open(\"/home/xiechen/Local_search_GeneConsensus/Result/rand_G200_80.txt\", \"r\") as f:\n",
    "    data = f.readlines()\n",
    "data1 = [ele.replace('\\n','') for ele in data]\n",
    "# values:\n",
    "valueStr = data1[0].split(' ')\n",
    "values_2 = [1646.42 - float(ele) for ele in valueStr[1:]]\n",
    "# calculation times:\n",
    "calc_timeStr = data1[2].split(' ')\n",
    "calc_time = [float(ele) for ele in calc_timeStr[1:]]\n",
    "# nbIterationLS\n",
    "nbIterLS_Str = data1[1].split(' ')\n",
    "nbIterLS = [int(ele) for ele in nbIterLS_Str[1:]]"
   ]
  },
  {
   "cell_type": "code",
   "execution_count": 49,
   "metadata": {},
   "outputs": [
    {
     "name": "stdout",
     "output_type": "stream",
     "text": [
      "0.1780000000000958\n",
      "3.045932333333333\n"
     ]
    }
   ],
   "source": [
    "mean_values2 = sum(values_2)/len(values_2)\n",
    "print(mean_values2)\n",
    "mean_time = sum(calc_time)/len(calc_time)\n",
    "print(mean_time)"
   ]
  },
  {
   "cell_type": "code",
   "execution_count": 79,
   "metadata": {},
   "outputs": [],
   "source": [
    "Infor_ILSHC = {\n",
    "    'G10_10':{'mean_distance':0.0 ,'mean_time':0.00033159999999999993},\n",
    "    'G20_5':{'mean_distance':0.0 ,'mean_time':5.053333333333334e-05},\n",
    "    'G20_20':{'mean_distance':0.036666666666667895 ,'mean_time':0.003832633333333334},\n",
    "    'G30_20':{'mean_distance':0.046833333333329105 ,'mean_time':0.003861933333333333},\n",
    "    'G30_30':{'mean_distance':0.1934260000000099 ,'mean_time':0.024521599999999994},\n",
    "    'G50_40':{'mean_distance':0.19469999999998133 ,'mean_time':0.09680260000000003},\n",
    "    'G300_50':{'mean_distance':0.874158999999952 ,'mean_time':0.3294143333333333},\n",
    "    'G100_80':{'mean_distance':0.33466666666669576 ,'mean_time':2.9163096666666655},\n",
    "    'G200_80':{'mean_distance':0.1780000000000958 ,'mean_time':3.045932333333333}\n",
    "}"
   ]
  },
  {
   "cell_type": "code",
   "execution_count": 92,
   "metadata": {},
   "outputs": [],
   "source": [
    "GraspHC = {\n",
    "'G10_10': {'mean_distance':26.2,'mean_time':0.000247},\n",
    "'G20_5': {'mean_distance':5.35,'mean_time':0.0000405},\n",
    "'G20_20': {'mean_distance':110.4,'mean_time':0.004282},\n",
    "'G30_20': {'mean_distance':106.1,'mean_time':0.003625},\n",
    "'G30_30': {'mean_distance':244.633,'mean_time':0.0259695},\n",
    "'G50_40': {'mean_distance':428.44,'mean_time':0.0883},\n",
    "'G300_50': {'mean_distance':637.539,'mean_time':0.360926},\n",
    "'G100_80':{'mean_distance':1702.96,'mean_time':2.09751},\n",
    "'G200_80':{'mean_distance':1646.25,'mean_time':2.05235}\n",
    "}"
   ]
  },
  {
   "cell_type": "code",
   "execution_count": 83,
   "metadata": {},
   "outputs": [],
   "source": [
    "Gene_keys = Infor_ILSHC.keys()\n",
    "dists_ils = []\n",
    "time_ils = []\n",
    "def collecter_time_dist(infos_set,keys,dist_tab,time_tab):\n",
    "    for key in keys:\n",
    "        dist_tab.append(infos_set[key]['mean_distance'])\n",
    "        time_tab.append(infos_set[key]['mean_time'])\n",
    "\n",
    "collecter_time_dist(Infor_ILSHC,Gene_keys,dists_ils,time_ils)"
   ]
  },
  {
   "cell_type": "code",
   "execution_count": 86,
   "metadata": {},
   "outputs": [],
   "source": [
    "dists_SA = []\n",
    "time_SA = []\n",
    "collecter_time_dist(ALlinfos_SA,Gene_keys,dists_SA,time_SA)"
   ]
  },
  {
   "cell_type": "code",
   "execution_count": 94,
   "metadata": {},
   "outputs": [],
   "source": [
    "dists_GHC = []\n",
    "time_GHC = []\n",
    "collecter_time_dist(GraspHC,Gene_keys,dists_GHC,time_GHC)\n",
    "value_Gurobi = [26.2,5.35,110.4,106.1,244.633326,428.52,638.196659,1703.21,1646.42]\n",
    "dists_GHC = [value_Gurobi[i]-dists_GHC[i]  for i in range(0,9)]"
   ]
  },
  {
   "cell_type": "markdown",
   "metadata": {},
   "source": [
    "# Draw the image"
   ]
  },
  {
   "cell_type": "code",
   "execution_count": 95,
   "metadata": {},
   "outputs": [
    {
     "data": {
      "image/png": "[encoded data removed]",
      "text/plain": [
       "<Figure size 432x288 with 1 Axes>"
      ]
     },
     "metadata": {
      "needs_background": "light"
     },
     "output_type": "display_data"
    }
   ],
   "source": [
    "import matplotlib.pyplot as plt\n",
    "\n",
    "names = Gene_keys\n",
    "x = range(len(names))\n",
    "y1 = dists_ils\n",
    "y2 = dists_SA\n",
    "y3 = dists_GHC\n",
    "l1, = plt.plot(x, y1, 'bo-')#x,y et la couleur\n",
    "l2, = plt.plot(x, y2, 'ro-')\n",
    "l3, = plt.plot(x, y3, 'go-')\n",
    "# rects1 = plt.bar(left=x, height=y, width=0.4, alpha=0.8, color='blue', label=\"mean_quality_diff\")\n",
    "plt.legend(handles=[l1,l2,l3],labels=['mean_qual_diff_ILSHC','mean_qual_diff_SA','qual_diff_GraspHC'],loc='best')\n",
    "plt.xticks(x, names, rotation=45)\n",
    "plt.margins(0.08)\n",
    "plt.subplots_adjust(bottom=0.15)\n",
    "plt.show()"
   ]
  },
  {
   "cell_type": "code",
   "execution_count": 97,
   "metadata": {},
   "outputs": [
    {
     "data": {
      "image/png": "[encoded data removed]",
      "text/plain": [
       "<Figure size 432x288 with 1 Axes>"
      ]
     },
     "metadata": {
      "needs_background": "light"
     },
     "output_type": "display_data"
    }
   ],
   "source": [
    "names = Gene_keys\n",
    "x = range(len(names))\n",
    "y1 = time_ils\n",
    "y2 = time_SA\n",
    "y3 = time_GHC\n",
    "l1, = plt.plot(x, y1, 'bo-')#x,y et la couleur\n",
    "l2, = plt.plot(x, y2, 'ro-')\n",
    "l3, = plt.plot(x, y3, 'go-')\n",
    "# rects1 = plt.bar(left=x, height=y, width=0.4, alpha=0.8, color='blue', label=\"mean_quality_diff\")\n",
    "plt.legend(handles=[l1,l2,l3],labels=['mean_time_ILSHC','mean_time_SA','time_GraspHC'],loc='best')\n",
    "plt.xticks(x, names, rotation=45)\n",
    "plt.margins(0.08)\n",
    "plt.subplots_adjust(bottom=0.15)\n",
    "plt.show()"
   ]
  },
  {
   "cell_type": "code",
   "execution_count": 137,
   "metadata": {},
   "outputs": [
    {
     "data": {
      "text/html": [
       "<div>\n",
       "<style scoped>\n",
       "    .dataframe tbody tr th:only-of-type {\n",
       "        vertical-align: middle;\n",
       "    }\n",
       "\n",
       "    .dataframe tbody tr th {\n",
       "        vertical-align: top;\n",
       "    }\n",
       "\n",
       "    .dataframe thead th {\n",
       "        text-align: right;\n",
       "    }\n",
       "</style>\n",
       "<table border=\"1\" class=\"dataframe\">\n",
       "  <thead>\n",
       "    <tr style=\"text-align: right;\">\n",
       "      <th></th>\n",
       "      <th>temperature</th>\n",
       "      <th>nbMaxRestart</th>\n",
       "      <th>totalIter</th>\n",
       "      <th>Value_Random</th>\n",
       "      <th>Value_Greedy</th>\n",
       "      <th>Objectif</th>\n",
       "    </tr>\n",
       "  </thead>\n",
       "  <tbody>\n",
       "    <tr>\n",
       "      <th>0</th>\n",
       "      <td>25.0</td>\n",
       "      <td>0.0</td>\n",
       "      <td>0.0</td>\n",
       "      <td>1584.07</td>\n",
       "      <td>1475.12</td>\n",
       "      <td>1703.21</td>\n",
       "    </tr>\n",
       "    <tr>\n",
       "      <th>1</th>\n",
       "      <td>25.0</td>\n",
       "      <td>1.0</td>\n",
       "      <td>25.0</td>\n",
       "      <td>1689.35</td>\n",
       "      <td>1698.80</td>\n",
       "      <td>1703.21</td>\n",
       "    </tr>\n",
       "    <tr>\n",
       "      <th>2</th>\n",
       "      <td>25.0</td>\n",
       "      <td>2.0</td>\n",
       "      <td>50.0</td>\n",
       "      <td>1700.91</td>\n",
       "      <td>1701.29</td>\n",
       "      <td>1703.21</td>\n",
       "    </tr>\n",
       "    <tr>\n",
       "      <th>3</th>\n",
       "      <td>25.0</td>\n",
       "      <td>3.0</td>\n",
       "      <td>75.0</td>\n",
       "      <td>1702.37</td>\n",
       "      <td>1702.39</td>\n",
       "      <td>1703.21</td>\n",
       "    </tr>\n",
       "    <tr>\n",
       "      <th>4</th>\n",
       "      <td>25.0</td>\n",
       "      <td>4.0</td>\n",
       "      <td>100.0</td>\n",
       "      <td>1702.85</td>\n",
       "      <td>1702.69</td>\n",
       "      <td>1703.21</td>\n",
       "    </tr>\n",
       "    <tr>\n",
       "      <th>5</th>\n",
       "      <td>25.0</td>\n",
       "      <td>5.0</td>\n",
       "      <td>125.0</td>\n",
       "      <td>1703.09</td>\n",
       "      <td>1702.85</td>\n",
       "      <td>1703.21</td>\n",
       "    </tr>\n",
       "  </tbody>\n",
       "</table>\n",
       "</div>"
      ],
      "text/plain": [
       "   temperature  nbMaxRestart  totalIter  Value_Random  Value_Greedy  Objectif\n",
       "0         25.0           0.0        0.0       1584.07       1475.12   1703.21\n",
       "1         25.0           1.0       25.0       1689.35       1698.80   1703.21\n",
       "2         25.0           2.0       50.0       1700.91       1701.29   1703.21\n",
       "3         25.0           3.0       75.0       1702.37       1702.39   1703.21\n",
       "4         25.0           4.0      100.0       1702.85       1702.69   1703.21\n",
       "5         25.0           5.0      125.0       1703.09       1702.85   1703.21"
      ]
     },
     "execution_count": 137,
     "metadata": {},
     "output_type": "execute_result"
    }
   ],
   "source": [
    "# Random_G100_80 ={\n",
    "# {'Objectif': 1689.35,'temperature': 25, 'nbMaxRestart': 1, 'totalIter': 25},\n",
    "# {'Objectif': 1700.91,'temperature': 25, 'nbMaxRestart': 2, 'totalIter': 50},\n",
    "# {'Objectif': 1702.37,'temperature': 25, 'nbMaxRestart': 3, 'totalIter': 75},\n",
    "# {'Objectif': 1702.85,'temperature': 25, 'nbMaxRestart': 4, 'totalIter': 100},\n",
    "# {'Objectif': 1703.09,'temperature': 25, 'nbMaxRestart': 5, 'totalIter': 125}\n",
    "# }\n",
    "import pandas as pd\n",
    "\n",
    "table_infos = []\n",
    "temperature = [25 for i in range(6)]\n",
    "nbMaxRestart = [i for i in range(0,6)]\n",
    "totalIter = [temperature[i]*nbMaxRestart[i] for i in range(6)]\n",
    "Value_Random = [1584.07,1689.35,1700.91,1702.37,1702.85,1703.09]\n",
    "Value_Greedy  = [1475.12,1698.8,1701.29,1702.39,1702.69,1702.85]\n",
    "Objectif = [1703.21 for i in range(6)]\n",
    "table_infos.append(temperature)\n",
    "table_infos.append(nbMaxRestart)\n",
    "table_infos.append(totalIter)\n",
    "table_infos.append(Value_Random)\n",
    "table_infos.append(Value_Greedy)\n",
    "table_infos.append(Objectif)\n",
    "columns_tab= ['temperature','nbMaxRestart','totalIter','Value_Random','Value_Greedy','Objectif']\n",
    "index_tab = [i for i in range(6)]\n",
    "pd_infos = pd.DataFrame(table_infos,index = columns_tab,columns = index_tab).T\n",
    "pd_infos"
   ]
  },
  {
   "cell_type": "code",
   "execution_count": 138,
   "metadata": {},
   "outputs": [],
   "source": [
    "Dist_Obj1 = [1703.21 - ele for ele in Value_Random]\n",
    "Dist_Obj2 = [1703.21 - ele for ele in Value_Greedy]"
   ]
  },
  {
   "cell_type": "code",
   "execution_count": 140,
   "metadata": {},
   "outputs": [
    {
     "data": {
      "image/png": "[encoded data removed]",
      "text/plain": [
       "<Figure size 432x288 with 1 Axes>"
      ]
     },
     "metadata": {
      "needs_background": "light"
     },
     "output_type": "display_data"
    }
   ],
   "source": [
    "names = totalIter\n",
    "x = range(len(names))\n",
    "y1 = Dist_Obj1\n",
    "y2 = Dist_Obj2\n",
    "l1, = plt.plot(x, y1, 'bo-')#x,y et la couleur\n",
    "l2, = plt.plot(x, y2, 'ro-')\n",
    "# rects1 = plt.bar(left=x, height=y, width=0.4, alpha=0.8, color='blue', label=\"mean_quality_diff\")\n",
    "plt.legend(handles=[l1,l2],labels=['Random Qualite difference','Greedy Qualite difference'],loc='best')\n",
    "plt.ylabel('Qualite difference')\n",
    "plt.xlabel('Number of total Iteration')\n",
    "plt.xticks(x, names, rotation=45)\n",
    "plt.margins(0.08)\n",
    "plt.subplots_adjust(bottom=0.15)\n",
    "plt.show()"
   ]
  },
  {
   "cell_type": "code",
   "execution_count": null,
   "metadata": {},
   "outputs": [],
   "source": []
  }
 ],
 "metadata": {
  "kernelspec": {
   "display_name": "Python 3",
   "language": "python",
   "name": "python3"
  },
  "language_info": {
   "codemirror_mode": {
    "name": "ipython",
    "version": 3
   },
   "file_extension": ".py",
   "mimetype": "text/x-python",
   "name": "python",
   "nbconvert_exporter": "python",
   "pygments_lexer": "ipython3",
   "version": "3.7.6"
  }
 },
 "nbformat": 4,
 "nbformat_minor": 4
}
