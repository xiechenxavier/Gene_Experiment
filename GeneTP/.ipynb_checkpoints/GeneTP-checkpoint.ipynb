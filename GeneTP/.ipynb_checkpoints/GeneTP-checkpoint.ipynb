{
 "cells": [
  {
   "cell_type": "code",
   "execution_count": 18,
   "metadata": {},
   "outputs": [
    {
     "data": {
      "text/plain": [
       "[0, 1, 2, 3, 4, 5, 6, 7, 8, 9]"
      ]
     },
     "execution_count": 18,
     "metadata": {},
     "output_type": "execute_result"
    }
   ],
   "source": [
    "import random\n",
    "\n",
    "mat_classement = []\n",
    "start = [x for x in range(0, 10)] # 0 -> 9\n",
    "mat_classement.append(start)\n",
    "for i in range(20):\n",
    "    curr_rank = random.shuffle(mat_classement)\n",
    "    print(curr_rank)\n",
    "    mat_classement.append(curr_rank )\n"
   ]
  },
  {
   "cell_type": "code",
   "execution_count": 21,
   "metadata": {},
   "outputs": [],
   "source": [
    "mat_classement = []"
   ]
  },
  {
   "cell_type": "code",
   "execution_count": 22,
   "metadata": {},
   "outputs": [
    {
     "name": "stdout",
     "output_type": "stream",
     "text": [
      "[5, 6, 2, 4, 10, 1, 3, 9, 7, 8]\n",
      "[6, 3, 7, 5, 10, 9, 8, 4, 1, 2]\n",
      "[9, 8, 4, 3, 5, 7, 6, 2, 10, 1]\n",
      "[2, 4, 8, 9, 6, 3, 10, 7, 1, 5]\n",
      "[4, 5, 6, 7, 10, 8, 2, 9, 1, 3]\n",
      "[3, 2, 5, 4, 1, 10, 6, 9, 8, 7]\n",
      "[9, 3, 5, 7, 4, 8, 6, 2, 10, 1]\n",
      "[1, 10, 8, 2, 6, 9, 4, 3, 7, 5]\n",
      "[1, 3, 2, 10, 4, 9, 5, 6, 7, 8]\n",
      "[9, 2, 10, 5, 4, 1, 7, 3, 6, 8]\n",
      "[1, 3, 8, 2, 4, 7, 9, 10, 5, 6]\n",
      "[4, 2, 5, 3, 7, 1, 9, 8, 6, 10]\n",
      "[9, 4, 8, 6, 2, 7, 5, 1, 3, 10]\n",
      "[9, 1, 6, 3, 7, 8, 5, 10, 4, 2]\n",
      "[4, 10, 6, 2, 9, 8, 5, 7, 1, 3]\n",
      "[10, 8, 7, 1, 4, 3, 9, 6, 5, 2]\n",
      "[5, 6, 2, 8, 1, 9, 3, 7, 10, 4]\n",
      "[6, 5, 8, 9, 7, 4, 2, 10, 1, 3]\n",
      "[8, 5, 10, 6, 1, 9, 4, 2, 7, 3]\n",
      "[9, 6, 10, 8, 2, 7, 1, 4, 5, 3]\n"
     ]
    }
   ],
   "source": [
    "import random;\n",
    " \n",
    "#1、利用递归生成\n",
    "resultList=[];#用于存放结果的List\n",
    "A=1; #最小随机数\n",
    "B=10 #最大随机数\n",
    "COUNT=10\n",
    " \n",
    "#2、利用Python中的randomw.sample()函数实现\n",
    "\n",
    "for i in range(20):\n",
    "    \n",
    "    resultList=random.sample(range(A,B+1),COUNT); # sample(x,y)函数的作用是从序列x中，随机选择y个不重复的元素。上面的方法写了那么多，其实Python一句话就完成了。\n",
    "    mat_classement.append(resultList)\n",
    "    print(resultList)# 打印结果\n"
   ]
  },
  {
   "cell_type": "code",
   "execution_count": null,
   "metadata": {},
   "outputs": [],
   "source": [
    "mat_classement = []\n",
    "def generateLists(A,B,COUNT,NBligne):\n",
    "    for i in range(NBligne):\n",
    "        resultList = random.sample(range(A,B+1),COUNT)\n",
    "        mat_classement.append(resultList)\n",
    "generateLists"
   ]
  },
  {
   "cell_type": "code",
   "execution_count": 54,
   "metadata": {},
   "outputs": [
    {
     "data": {
      "text/plain": [
       "[[0.0, 0.35, 0.7, 0.4, 0.35, 0.4, 0.45, 0.4, 0.45, 0.4],\n",
       " [0.65, 0.0, 0.6, 0.45, 0.5, 0.35, 0.65, 0.4, 0.5, 0.6],\n",
       " [0.3, 0.4, 0.0, 0.35, 0.5, 0.4, 0.6, 0.45, 0.35, 0.55],\n",
       " [0.6, 0.55, 0.65, 0.0, 0.55, 0.6, 0.65, 0.5, 0.45, 0.55],\n",
       " [0.65, 0.5, 0.5, 0.45, 0.0, 0.55, 0.6, 0.5, 0.4, 0.6],\n",
       " [0.6, 0.65, 0.6, 0.4, 0.45, 0.0, 0.7, 0.55, 0.45, 0.6],\n",
       " [0.55, 0.35, 0.4, 0.35, 0.4, 0.3, 0.0, 0.4, 0.25, 0.5],\n",
       " [0.6, 0.6, 0.55, 0.5, 0.5, 0.45, 0.6, 0.0, 0.4, 0.5],\n",
       " [0.55, 0.5, 0.65, 0.55, 0.6, 0.55, 0.75, 0.6, 0.0, 0.55],\n",
       " [0.6, 0.4, 0.45, 0.45, 0.4, 0.4, 0.5, 0.5, 0.45, 0.0]]"
      ]
     },
     "execution_count": 54,
     "metadata": {},
     "output_type": "execute_result"
    }
   ],
   "source": [
    "from itertools import product\n",
    "\n",
    "wij_table = []\n",
    "for j in range(len(start)):\n",
    "    wij_table.append([0 for i in range(len(start))])\n",
    "def compterAllPairs():\n",
    "    setstart = set(start)\n",
    "    for ele in mat_classement:\n",
    "       \n",
    "        for i,j in product(setstart,setstart):\n",
    "            if i != j :\n",
    "                if(ele.index(i+1) < ele.index(j+1) ):\n",
    "                    wij_table[i][j] += 1\n",
    "    # calculer toutes les probabilites        \n",
    "    for i,j in product(setstart,setstart):\n",
    "        wij_table[i][j]/= len(mat_classement)\n",
    "\n",
    "\n",
    "compterAllPairs()\n",
    "wij_table         \n",
    "        \n",
    "    "
   ]
  },
  {
   "cell_type": "code",
   "execution_count": 74,
   "metadata": {},
   "outputs": [],
   "source": [
    "from mip import Model, xsum, minimize,maximize,BINARY\n",
    "from sys import stdout as out\n",
    "model = Model(sense=minimize)\n",
    "x = [[model.add_var(var_type=BINARY) for j in range(len(start))] for i in range(len(start))]\n",
    "\n"
   ]
  },
  {
   "cell_type": "code",
   "execution_count": 76,
   "metadata": {},
   "outputs": [
    {
     "ename": "NameError",
     "evalue": "name 'mip' is not defined",
     "output_type": "error",
     "traceback": [
      "\u001b[0;31m--------------------------------------------------------------\u001b[0m",
      "\u001b[0;31mNameError\u001b[0m                    Traceback (most recent call last)",
      "\u001b[0;32m<ipython-input-76-dbc0b40524c2>\u001b[0m in \u001b[0;36m<module>\u001b[0;34m\u001b[0m\n\u001b[1;32m      1\u001b[0m \u001b[0msetstart\u001b[0m \u001b[0;34m=\u001b[0m \u001b[0mset\u001b[0m\u001b[0;34m(\u001b[0m\u001b[0mstart\u001b[0m\u001b[0;34m)\u001b[0m\u001b[0;34m\u001b[0m\u001b[0;34m\u001b[0m\u001b[0m\n\u001b[0;32m----> 2\u001b[0;31m \u001b[0mmodel\u001b[0m\u001b[0;34m.\u001b[0m\u001b[0mobjective\u001b[0m \u001b[0;34m=\u001b[0m \u001b[0mmip\u001b[0m\u001b[0;34m.\u001b[0m\u001b[0mminimize\u001b[0m\u001b[0;34m(\u001b[0m\u001b[0mxsum\u001b[0m\u001b[0;34m(\u001b[0m\u001b[0;34m-\u001b[0m\u001b[0;36m1\u001b[0m\u001b[0;34m*\u001b[0m\u001b[0mwij_table\u001b[0m\u001b[0;34m[\u001b[0m\u001b[0mi\u001b[0m\u001b[0;34m]\u001b[0m\u001b[0;34m[\u001b[0m\u001b[0mj\u001b[0m\u001b[0;34m]\u001b[0m\u001b[0;34m*\u001b[0m\u001b[0mx\u001b[0m\u001b[0;34m[\u001b[0m\u001b[0mi\u001b[0m\u001b[0;34m]\u001b[0m\u001b[0;34m[\u001b[0m\u001b[0mj\u001b[0m\u001b[0;34m]\u001b[0m \u001b[0;32mfor\u001b[0m \u001b[0mi\u001b[0m \u001b[0;32min\u001b[0m \u001b[0msetstart\u001b[0m\u001b[0;34m)\u001b[0m \u001b[0;32mfor\u001b[0m \u001b[0mj\u001b[0m \u001b[0;32min\u001b[0m \u001b[0msetstart\u001b[0m\u001b[0;34m-\u001b[0m\u001b[0;34m{\u001b[0m\u001b[0mi\u001b[0m\u001b[0;34m}\u001b[0m\u001b[0;34m)\u001b[0m\u001b[0;34m\u001b[0m\u001b[0;34m\u001b[0m\u001b[0m\n\u001b[0m\u001b[1;32m      3\u001b[0m \u001b[0;34m\u001b[0m\u001b[0m\n\u001b[1;32m      4\u001b[0m \u001b[0;32mfor\u001b[0m \u001b[0mi\u001b[0m\u001b[0;34m,\u001b[0m\u001b[0mj\u001b[0m \u001b[0;32min\u001b[0m \u001b[0mproduct\u001b[0m\u001b[0;34m(\u001b[0m\u001b[0msetstart\u001b[0m\u001b[0;34m,\u001b[0m\u001b[0msetstart\u001b[0m\u001b[0;34m-\u001b[0m\u001b[0;34m{\u001b[0m\u001b[0mi\u001b[0m\u001b[0;34m}\u001b[0m\u001b[0;34m)\u001b[0m\u001b[0;34m:\u001b[0m\u001b[0;34m\u001b[0m\u001b[0;34m\u001b[0m\u001b[0m\n\u001b[1;32m      5\u001b[0m     \u001b[0mmodel\u001b[0m \u001b[0;34m+=\u001b[0m \u001b[0mx\u001b[0m\u001b[0;34m[\u001b[0m\u001b[0mi\u001b[0m\u001b[0;34m]\u001b[0m\u001b[0;34m[\u001b[0m\u001b[0mj\u001b[0m\u001b[0;34m]\u001b[0m \u001b[0;34m+\u001b[0m \u001b[0mx\u001b[0m\u001b[0;34m[\u001b[0m\u001b[0mj\u001b[0m\u001b[0;34m]\u001b[0m\u001b[0;34m[\u001b[0m\u001b[0mi\u001b[0m\u001b[0;34m]\u001b[0m \u001b[0;34m==\u001b[0m\u001b[0;36m1\u001b[0m\u001b[0;34m\u001b[0m\u001b[0;34m\u001b[0m\u001b[0m\n",
      "\u001b[0;31mNameError\u001b[0m: name 'mip' is not defined"
     ]
    }
   ],
   "source": [
    "setstart = set(start)\n",
    "model.objective = minimize(xsum(-1*wij_table[i][j]*x[i][j] for i in setstart) for j in setstart-{i})\n",
    "\n",
    "for i,j in product(setstart,setstart-{i}):\n",
    "    model += x[i][j] + x[j][i] ==1\n",
    "\n",
    "for i in setstart:\n",
    "    model += x[i][i] == 0\n",
    "#3 任意(i,j,k) x[i][k] >= x[i][j] + x[j][k] - 1\n",
    "for i,j,k in product(setstart,setstart-{i},setstart-{i}-{j}):\n",
    "    model += x[i][k] >= x[i][j] + x[j][k] - 1"
   ]
  },
  {
   "cell_type": "code",
   "execution_count": null,
   "metadata": {},
   "outputs": [],
   "source": []
  }
 ],
 "metadata": {
  "kernelspec": {
   "display_name": "Python 3",
   "language": "python",
   "name": "python3"
  },
  "language_info": {
   "codemirror_mode": {
    "name": "ipython",
    "version": 3
   },
   "file_extension": ".py",
   "mimetype": "text/x-python",
   "name": "python",
   "nbconvert_exporter": "python",
   "pygments_lexer": "ipython3",
   "version": "3.7.6"
  }
 },
 "nbformat": 4,
 "nbformat_minor": 4
}
