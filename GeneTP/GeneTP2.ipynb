{
 "cells": [
  {
   "cell_type": "code",
   "execution_count": 68,
   "metadata": {},
   "outputs": [],
   "source": [
    "import random\n",
    "\n",
    "nbGene = 50\n",
    "start = [x for x in range(0, nbGene)] # 0 -> 9\n",
    "# an array\n",
    "mat_classement = []\n",
    "#function to generate a list\n",
    "def generateLists(A,B,COUNT,NBligne,mat_classement):\n",
    "    for i in range(NBligne):\n",
    "        resultList = random.sample(range(A,B+1),COUNT)\n",
    "        mat_classement.append(resultList)"
   ]
  },
  {
   "cell_type": "code",
   "execution_count": 69,
   "metadata": {},
   "outputs": [],
   "source": [
    "#1、利用递归生成\n",
    "A=1; #最小随机数\n",
    "B=50 #最大随机数\n",
    "nbcol=50 #多少列\n",
    "nbligne = 300\n",
    "generateLists(A,B,nbcol,nbligne,mat_classement)"
   ]
  },
  {
   "cell_type": "code",
   "execution_count": 70,
   "metadata": {},
   "outputs": [
    {
     "data": {
      "text/plain": [
       "300"
      ]
     },
     "execution_count": 70,
     "metadata": {},
     "output_type": "execute_result"
    }
   ],
   "source": [
    "len(mat_classement)"
   ]
  },
  {
   "cell_type": "code",
   "execution_count": 1,
   "metadata": {},
   "outputs": [],
   "source": [
    "from itertools import product\n",
    "\n",
    "wij_table = []\n",
    "for j in range(len(start)):\n",
    "    wij_table.append([0 for i in range(len(start))])\n",
    "def compterAllPairs():\n",
    "    setstart = set(start)\n",
    "    for ele in mat_classement:\n",
    "       \n",
    "        for i,j in product(setstart,setstart):\n",
    "            if i != j :\n",
    "                if(ele.index(i+1) < ele.index(j+1) ):\n",
    "                    wij_table[i][j] += 1\n",
    "    # calculer toutes les probabilites        \n",
    "    for i,j in product(setstart,setstart):\n",
    "        wij_table[i][j]/= len(mat_classement)\n",
    "\n",
    "\n",
    "# compterAllPairs()\n",
    "# wij_table         \n",
    "        "
   ]
  },
  {
   "cell_type": "markdown",
   "metadata": {},
   "source": [
    "# 生成文件"
   ]
  },
  {
   "cell_type": "code",
   "execution_count": 72,
   "metadata": {},
   "outputs": [],
   "source": [
    "import numpy as np\n",
    "#把所有的wij_table中所有的概率装入文件中\n",
    "dets = np.array(wij_table)\n",
    "np.savetxt(\"./Gene300_50.txt\", dets,fmt='%f',delimiter=',')"
   ]
  },
  {
   "cell_type": "markdown",
   "metadata": {},
   "source": [
    "# 读取文件数据变成数组"
   ]
  },
  {
   "cell_type": "code",
   "execution_count": 83,
   "metadata": {},
   "outputs": [
    {
     "data": {
      "text/plain": [
       "array([[0.  , 0.52, 0.45, ..., 0.52, 0.49, 0.47],\n",
       "       [0.48, 0.  , 0.4 , ..., 0.54, 0.45, 0.43],\n",
       "       [0.55, 0.6 , 0.  , ..., 0.54, 0.54, 0.58],\n",
       "       ...,\n",
       "       [0.48, 0.46, 0.46, ..., 0.  , 0.5 , 0.4 ],\n",
       "       [0.51, 0.55, 0.46, ..., 0.5 , 0.  , 0.51],\n",
       "       [0.53, 0.57, 0.42, ..., 0.6 , 0.49, 0.  ]])"
      ]
     },
     "execution_count": 83,
     "metadata": {},
     "output_type": "execute_result"
    }
   ],
   "source": [
    "dets2= np.loadtxt('./Gene100_80.txt',delimiter=',')\n",
    "dets2"
   ]
  },
  {
   "cell_type": "code",
   "execution_count": 66,
   "metadata": {},
   "outputs": [
    {
     "name": "stdout",
     "output_type": "stream",
     "text": [
      "24\n",
      "24\n"
     ]
    }
   ],
   "source": [
    "f=lambda a,b,c,d:a*b*c*d\n",
    "print(f(1,2,3,4))  #相当于下面这个函数\n",
    "def test01(a,b,c,d):\n",
    "    return a*b*c*d\n",
    "print(test01(1,2,3,4))\n",
    "\n",
    "\n"
   ]
  },
  {
   "cell_type": "code",
   "execution_count": 67,
   "metadata": {},
   "outputs": [
    {
     "data": {
      "text/plain": [
       "2"
      ]
     },
     "execution_count": 67,
     "metadata": {},
     "output_type": "execute_result"
    }
   ],
   "source": [
    "g=[lambda a:a*2,lambda b:b*3]\n",
    "# print(g[0](5))  #调用\n",
    "# print(g[1](6))\n",
    "len(g)"
   ]
  },
  {
   "cell_type": "code",
   "execution_count": 73,
   "metadata": {},
   "outputs": [
    {
     "data": {
      "text/plain": [
       "24"
      ]
     },
     "execution_count": 73,
     "metadata": {},
     "output_type": "execute_result"
    }
   ],
   "source": [
    "g = []\n",
    "g.append(test01) #pip install gurobipy"
   ]
  },
  {
   "cell_type": "code",
   "execution_count": 26,
   "metadata": {},
   "outputs": [],
   "source": [
    "import numpy as np\n",
    "import pandas as pd\n",
    "import sys\n",
    "sys.path.append(\"/home/xiechen/Gene/Gurobi\")\n",
    "from Gurobi_Gene import Gurobi_Gene\n",
    "import gurobipy"
   ]
  },
  {
   "cell_type": "code",
   "execution_count": 2,
   "metadata": {},
   "outputs": [
    {
     "name": "stdout",
     "output_type": "stream",
     "text": [
      "Academic license - for non-commercial use only - expires 2021-06-17\n",
      "Using license file /home/xiechen/gurobi.lic\n"
     ]
    }
   ],
   "source": [
    "Gene_rank1 = Gurobi_Gene()"
   ]
  },
  {
   "cell_type": "code",
   "execution_count": 3,
   "metadata": {},
   "outputs": [
    {
     "data": {
      "text/plain": [
       "['Gene30_30.txt',\n",
       " 'Gene100_80.txt',\n",
       " 'Gene20_20.txt',\n",
       " 'Gene30_20.txt',\n",
       " 'Gene10_10.txt',\n",
       " 'Gene20_5.txt',\n",
       " 'Gene40_50.txt']"
      ]
     },
     "execution_count": 3,
     "metadata": {},
     "output_type": "execute_result"
    }
   ],
   "source": [
    "import os\n",
    "filePath = '/home/xiechen/Desktop/GeneTP/'\n",
    "allfiles = os.listdir(filePath)\n",
    "instances = list(filter(lambda file:(file.find('.txt')!=-1),allfiles ))\n",
    "instances"
   ]
  },
  {
   "cell_type": "code",
   "execution_count": 140,
   "metadata": {},
   "outputs": [],
   "source": [
    "#装所有数据的容器\n",
    "infosArrays = {'Gene10_10':[(26.200000000000003, \n",
    "0.023952007293701172), \n",
    "(26.200000000000003, 0.018451929092407227), \n",
    "(26.200000000000003, 0.019472837448120117), \n",
    "(26.200000000000003, 0.021107912063598633), \n",
    "(26.200000000000003, 0.05103611946105957)],\n",
    "'Gene20_5':[(5.3500000000000005, 0.019504070281982422), \n",
    "(5.3500000000000005, 0.01873493194580078), \n",
    "(5.3500000000000005, 0.020424842834472656), \n",
    "(5.3500000000000005, 0.01823115348815918), \n",
    "(5.3500000000000005, 0.016709089279174805)],\n",
    "'Gene20_20':[(110.4, 0.06128692626953125), \n",
    "(110.4, 0.04715585708618164), \n",
    "(110.4, 0.06512999534606934), \n",
    "(110.4, 0.08679795265197754), \n",
    "(110.4, 0.564204216003418)],\n",
    "'Gene30_20':[(106.100002, 0.1333780288696289), \n",
    "(106.1, 0.048002004623413086), \n",
    "(106.1, 0.07172584533691406), \n",
    "(106.100002, 0.08519506454467773),\n",
    "(106.10000000000001, 0.5782608985900879)],\n",
    "'Gene30_30':[(244.633326, 0.9193551540374756), \n",
    "(244.633326, 0.12210607528686523), \n",
    "(244.633326, 0.2678399085998535), \n",
    "(244.633326, 0.4226500988006592), \n",
    "(244.633326, 3.3287367820739746)],\n",
    "'Gene50_40':[(428.52, 3.8061130046844482), \n",
    "(428.52, 0.4317147731781006), \n",
    "(428.52, 0.8571228981018066), \n",
    "(428.52, 1.278230905532837), \n",
    "(428.52, 11.431323051452637)],\n",
    "'Gene300_50':[(638.1966590000001, 25.3695809841156), \n",
    "(638.1966590000001, 0.7788259983062744), \n",
    "(638.1966590000001, 1.8404200077056885), \n",
    "(638.1966590000001, 2.7859010696411133), \n",
    "(638.1966590000001, 28.194777011871338)],\n",
    "'Gene100_80':[(1701.7900000000018, '100+'), \n",
    "(1703.2100000000014, 7.6916258335113525), \n",
    "(1703.2100000000016, 15.336566925048828), \n",
    "(1703.2300000000016, 37.782917976379395), \n",
    "('-inf', '100+')],\n",
    "'Gene200_80':[(1645.949999999999, '200+'), \n",
    "(1646.4199999999992, 12.247039079666138), \n",
    "(1646.3999999999992, 28.372766971588135), \n",
    "(1646.4399999999991, 26.643433094024658), \n",
    "('-inf', '200+')]\n",
    "}"
   ]
  },
  {
   "cell_type": "code",
   "execution_count": null,
   "metadata": {},
   "outputs": [],
   "source": [
    "# for instance in instances:\n",
    "#     Gene_rank1.importInstance(instance)\n",
    "#     # print(Gene_rank1.wij_table)\n",
    "#     Gene_rank1.parametrageModel() \n",
    "# #     print(Gene_rank1.PrintResult(\"Formulation4\"))\n",
    "#     infosArrays[instance] = Gene_rank1.calculAllFormulationTimes()"
   ]
  },
  {
   "cell_type": "code",
   "execution_count": 141,
   "metadata": {},
   "outputs": [],
   "source": [
    "infoArrays_keys = infosArrays.keys()\n",
    "infoArrays_obj_value =[]\n",
    "infoArrays_time = []\n",
    "for key in infoArrays_keys:\n",
    "    infoArrays_obj_value.append([ele[0] for ele in infosArrays[key]])\n",
    "    infoArrays_time.append([ele[1] for ele in infosArrays[key]])"
   ]
  },
  {
   "cell_type": "code",
   "execution_count": null,
   "metadata": {},
   "outputs": [],
   "source": [
    "print(infoArrays_obj_value,infoArrays_time)"
   ]
  },
  {
   "cell_type": "code",
   "execution_count": 143,
   "metadata": {},
   "outputs": [
    {
     "data": {
      "text/html": [
       "<div>\n",
       "<style scoped>\n",
       "    .dataframe tbody tr th:only-of-type {\n",
       "        vertical-align: middle;\n",
       "    }\n",
       "\n",
       "    .dataframe tbody tr th {\n",
       "        vertical-align: top;\n",
       "    }\n",
       "\n",
       "    .dataframe thead th {\n",
       "        text-align: right;\n",
       "    }\n",
       "</style>\n",
       "<table border=\"1\" class=\"dataframe\">\n",
       "  <thead>\n",
       "    <tr style=\"text-align: right;\">\n",
       "      <th></th>\n",
       "      <th>Gene10_10</th>\n",
       "      <th>Gene20_5</th>\n",
       "      <th>Gene20_20</th>\n",
       "      <th>Gene30_20</th>\n",
       "      <th>Gene30_30</th>\n",
       "      <th>Gene50_40</th>\n",
       "      <th>Gene300_50</th>\n",
       "      <th>Gene100_80</th>\n",
       "      <th>Gene200_80</th>\n",
       "    </tr>\n",
       "  </thead>\n",
       "  <tbody>\n",
       "    <tr>\n",
       "      <th>Formulation1</th>\n",
       "      <td>0.023952</td>\n",
       "      <td>0.0195041</td>\n",
       "      <td>0.0612869</td>\n",
       "      <td>0.133378</td>\n",
       "      <td>0.919355</td>\n",
       "      <td>3.80611</td>\n",
       "      <td>25.3696</td>\n",
       "      <td>100+</td>\n",
       "      <td>200+</td>\n",
       "    </tr>\n",
       "    <tr>\n",
       "      <th>Formulation2</th>\n",
       "      <td>0.0184519</td>\n",
       "      <td>0.0187349</td>\n",
       "      <td>0.0471559</td>\n",
       "      <td>0.048002</td>\n",
       "      <td>0.122106</td>\n",
       "      <td>0.431715</td>\n",
       "      <td>0.778826</td>\n",
       "      <td>7.69163</td>\n",
       "      <td>12.247</td>\n",
       "    </tr>\n",
       "    <tr>\n",
       "      <th>Formulation3</th>\n",
       "      <td>0.0194728</td>\n",
       "      <td>0.0204248</td>\n",
       "      <td>0.06513</td>\n",
       "      <td>0.0717258</td>\n",
       "      <td>0.26784</td>\n",
       "      <td>0.857123</td>\n",
       "      <td>1.84042</td>\n",
       "      <td>15.3366</td>\n",
       "      <td>28.3728</td>\n",
       "    </tr>\n",
       "    <tr>\n",
       "      <th>Formulation4</th>\n",
       "      <td>0.0211079</td>\n",
       "      <td>0.0182312</td>\n",
       "      <td>0.086798</td>\n",
       "      <td>0.0851951</td>\n",
       "      <td>0.42265</td>\n",
       "      <td>1.27823</td>\n",
       "      <td>2.7859</td>\n",
       "      <td>37.7829</td>\n",
       "      <td>26.6434</td>\n",
       "    </tr>\n",
       "    <tr>\n",
       "      <th>Formulation5</th>\n",
       "      <td>0.0510361</td>\n",
       "      <td>0.0167091</td>\n",
       "      <td>0.564204</td>\n",
       "      <td>0.578261</td>\n",
       "      <td>3.32874</td>\n",
       "      <td>11.4313</td>\n",
       "      <td>28.1948</td>\n",
       "      <td>100+</td>\n",
       "      <td>200+</td>\n",
       "    </tr>\n",
       "  </tbody>\n",
       "</table>\n",
       "</div>"
      ],
      "text/plain": [
       "              Gene10_10   Gene20_5  Gene20_20  Gene30_20 Gene30_30 Gene50_40  \\\n",
       "Formulation1   0.023952  0.0195041  0.0612869   0.133378  0.919355   3.80611   \n",
       "Formulation2  0.0184519  0.0187349  0.0471559   0.048002  0.122106  0.431715   \n",
       "Formulation3  0.0194728  0.0204248    0.06513  0.0717258   0.26784  0.857123   \n",
       "Formulation4  0.0211079  0.0182312   0.086798  0.0851951   0.42265   1.27823   \n",
       "Formulation5  0.0510361  0.0167091   0.564204   0.578261   3.32874   11.4313   \n",
       "\n",
       "             Gene300_50 Gene100_80 Gene200_80  \n",
       "Formulation1    25.3696       100+       200+  \n",
       "Formulation2   0.778826    7.69163     12.247  \n",
       "Formulation3    1.84042    15.3366    28.3728  \n",
       "Formulation4     2.7859    37.7829    26.6434  \n",
       "Formulation5    28.1948       100+       200+  "
      ]
     },
     "execution_count": 143,
     "metadata": {},
     "output_type": "execute_result"
    }
   ],
   "source": [
    "# ,'Best_Formulation'\n",
    "index_objet = ['Formulation1','Formulation2','Formulation3','Formulation4','Formulation5']\n",
    "columns = infoArrays_keys\n",
    "df_info_time = pd.DataFrame(infoArrays_time,index = columns,columns = index_objet).T\n",
    "df_info_time"
   ]
  },
  {
   "cell_type": "code",
   "execution_count": 144,
   "metadata": {},
   "outputs": [
    {
     "data": {
      "text/html": [
       "<div>\n",
       "<style scoped>\n",
       "    .dataframe tbody tr th:only-of-type {\n",
       "        vertical-align: middle;\n",
       "    }\n",
       "\n",
       "    .dataframe tbody tr th {\n",
       "        vertical-align: top;\n",
       "    }\n",
       "\n",
       "    .dataframe thead th {\n",
       "        text-align: right;\n",
       "    }\n",
       "</style>\n",
       "<table border=\"1\" class=\"dataframe\">\n",
       "  <thead>\n",
       "    <tr style=\"text-align: right;\">\n",
       "      <th></th>\n",
       "      <th>Gene10_10</th>\n",
       "      <th>Gene20_5</th>\n",
       "      <th>Gene20_20</th>\n",
       "      <th>Gene30_20</th>\n",
       "      <th>Gene30_30</th>\n",
       "      <th>Gene50_40</th>\n",
       "      <th>Gene300_50</th>\n",
       "      <th>Gene100_80</th>\n",
       "      <th>Gene200_80</th>\n",
       "    </tr>\n",
       "  </thead>\n",
       "  <tbody>\n",
       "    <tr>\n",
       "      <th>Formulation1</th>\n",
       "      <td>26.2</td>\n",
       "      <td>5.35</td>\n",
       "      <td>110.4</td>\n",
       "      <td>106.1</td>\n",
       "      <td>244.633</td>\n",
       "      <td>428.52</td>\n",
       "      <td>638.197</td>\n",
       "      <td>1701.79</td>\n",
       "      <td>1645.95</td>\n",
       "    </tr>\n",
       "    <tr>\n",
       "      <th>Formulation2</th>\n",
       "      <td>26.2</td>\n",
       "      <td>5.35</td>\n",
       "      <td>110.4</td>\n",
       "      <td>106.1</td>\n",
       "      <td>244.633</td>\n",
       "      <td>428.52</td>\n",
       "      <td>638.197</td>\n",
       "      <td>1703.21</td>\n",
       "      <td>1646.42</td>\n",
       "    </tr>\n",
       "    <tr>\n",
       "      <th>Formulation3</th>\n",
       "      <td>26.2</td>\n",
       "      <td>5.35</td>\n",
       "      <td>110.4</td>\n",
       "      <td>106.1</td>\n",
       "      <td>244.633</td>\n",
       "      <td>428.52</td>\n",
       "      <td>638.197</td>\n",
       "      <td>1703.21</td>\n",
       "      <td>1646.4</td>\n",
       "    </tr>\n",
       "    <tr>\n",
       "      <th>Formulation4</th>\n",
       "      <td>26.2</td>\n",
       "      <td>5.35</td>\n",
       "      <td>110.4</td>\n",
       "      <td>106.1</td>\n",
       "      <td>244.633</td>\n",
       "      <td>428.52</td>\n",
       "      <td>638.197</td>\n",
       "      <td>1703.23</td>\n",
       "      <td>1646.44</td>\n",
       "    </tr>\n",
       "    <tr>\n",
       "      <th>Formulation5</th>\n",
       "      <td>26.2</td>\n",
       "      <td>5.35</td>\n",
       "      <td>110.4</td>\n",
       "      <td>106.1</td>\n",
       "      <td>244.633</td>\n",
       "      <td>428.52</td>\n",
       "      <td>638.197</td>\n",
       "      <td>-inf</td>\n",
       "      <td>-inf</td>\n",
       "    </tr>\n",
       "  </tbody>\n",
       "</table>\n",
       "</div>"
      ],
      "text/plain": [
       "             Gene10_10 Gene20_5 Gene20_20 Gene30_20 Gene30_30 Gene50_40  \\\n",
       "Formulation1      26.2     5.35     110.4     106.1   244.633    428.52   \n",
       "Formulation2      26.2     5.35     110.4     106.1   244.633    428.52   \n",
       "Formulation3      26.2     5.35     110.4     106.1   244.633    428.52   \n",
       "Formulation4      26.2     5.35     110.4     106.1   244.633    428.52   \n",
       "Formulation5      26.2     5.35     110.4     106.1   244.633    428.52   \n",
       "\n",
       "             Gene300_50 Gene100_80 Gene200_80  \n",
       "Formulation1    638.197    1701.79    1645.95  \n",
       "Formulation2    638.197    1703.21    1646.42  \n",
       "Formulation3    638.197    1703.21     1646.4  \n",
       "Formulation4    638.197    1703.23    1646.44  \n",
       "Formulation5    638.197       -inf       -inf  "
      ]
     },
     "execution_count": 144,
     "metadata": {},
     "output_type": "execute_result"
    }
   ],
   "source": [
    "df_info_obj = pd.DataFrame(infoArrays_obj_value,index = columns,columns = index_objet).T\n",
    "df_info_obj"
   ]
  },
  {
   "cell_type": "code",
   "execution_count": 119,
   "metadata": {},
   "outputs": [],
   "source": [
    "with open(\"Gene20_5.txt\", \"r\") as f:\n",
    "    data = f.readlines()"
   ]
  },
  {
   "cell_type": "code",
   "execution_count": 120,
   "metadata": {},
   "outputs": [
    {
     "data": {
      "text/plain": [
       "['0.000000\\t0.500000\\t0.400000\\t0.450000\\t0.500000',\n",
       " '0.500000\\t0.000000\\t0.500000\\t0.500000\\t0.450000',\n",
       " '0.600000\\t0.500000\\t0.000000\\t0.400000\\t0.500000',\n",
       " '0.550000\\t0.500000\\t0.600000\\t0.000000\\t0.450000',\n",
       " '0.500000\\t0.550000\\t0.500000\\t0.550000\\t0.000000']"
      ]
     },
     "execution_count": 120,
     "metadata": {},
     "output_type": "execute_result"
    }
   ],
   "source": [
    "data2 = [ele.replace(',','\\t') for ele in data]    \n",
    "data3 = [ele.replace('\\n','') for ele in data2]\n",
    "data3"
   ]
  },
  {
   "cell_type": "code",
   "execution_count": 121,
   "metadata": {},
   "outputs": [],
   "source": [
    "f=open(\"new_Gene10_10.txt\",\"w\")\n",
    " \n",
    "for line in data3:\n",
    "    f.write(line+'\\n')\n",
    "f.close()"
   ]
  },
  {
   "cell_type": "markdown",
   "metadata": {},
   "source": [
    "# The performance of each solver"
   ]
  },
  {
   "cell_type": "code",
   "execution_count": 131,
   "metadata": {},
   "outputs": [],
   "source": [
    "cplex_opl={'Gene10_10': {'result':26.2, 'time': 0.01},\n",
    "'Gene20_5': {'result':5.35,'time': 0.0023},\n",
    "'Gene20_20': {'result':110.4, 'time':0.045},\n",
    "'Gene30_20': {'result':106.100002, 'time':0.03},\n",
    "'Gene30_30': {'result':244.633326, 'time':0.16},\n",
    "'Gene40_50': {'result':428.52, 'time':0.41},\n",
    "'Gene300_50': {'result':638.1966659,'time':0.64},\n",
    "'Gene100_80':{'result':1703.19,'time':13.94},\n",
    "'Gene200_80':{'result':1646.38,'time':69.96}\n",
    "}"
   ]
  },
  {
   "cell_type": "code",
   "execution_count": 136,
   "metadata": {},
   "outputs": [],
   "source": [
    "python_localSolver={'Gene10_10': {'result':26.2, 'time':0.017409893200056103 },\n",
    "'Gene20_5': {'result':5.35,'time': 0.008894159899955411},\n",
    "'Gene20_20': {'result':110.4, 'time':0.05530977819998952},\n",
    "'Gene30_20': {'result':106.100002, 'time':0.07514772699996683},\n",
    "'Gene30_30': {'result':244.633326, 'time':0.5379047063999678},\n",
    "'Gene40_50': {'result':428.52, 'time':2},\n",
    "'Gene300_50': {'result':638.196659,'time':5.342593396899974},\n",
    "'Gene100_80':{'result':1703.23,'time': 1109},\n",
    "'Gene200_80':{'result':1646.38,'time':'2000+'}\n",
    "}"
   ]
  },
  {
   "cell_type": "code",
   "execution_count": 174,
   "metadata": {},
   "outputs": [],
   "source": [
    "lsp={'Gene10_10': {'result':26.2, 'time':'0-1'},\n",
    "'Gene20_5': {'result':5.35,'time': '0-1'},\n",
    "'Gene20_20': {'result':110.4, 'time':'0-1'},\n",
    "'Gene30_20': {'result':106.1, 'time':'0-1'},\n",
    "'Gene30_30': {'result':244.63, 'time':'0-1'},\n",
    "'Gene40_50': {'result':428.52, 'time':0.52},\n",
    "'Gene300_50': {'result':638.196659,'time':2},\n",
    "'Gene100_80':{'result':1703.23,'time': 16},\n",
    "'Gene200_80':{'result':1646.42,'time':80}\n",
    "}"
   ]
  },
  {
   "cell_type": "code",
   "execution_count": 175,
   "metadata": {},
   "outputs": [],
   "source": [
    "all_solvers_restab = []\n",
    "all_solvers_timetab = []\n",
    "Gene_keys = cplex_opl.keys()\n",
    "results_opl = []\n",
    "time_opl = []\n",
    "\n",
    "results_pyt_ls = []\n",
    "time_pyt_ls = []\n",
    "\n",
    "res_lsp = []\n",
    "time_lsp = []\n",
    "# for key in Gene_keys:\n",
    "#     results_opl.append(lsp[key]['result'])\n",
    "#     time_opl.append(lsp[key]['time'])\n",
    "    \n",
    "# all_solvers_restab.append(results_opl)\n",
    "# all_solvers_timetab.append(time_opl)"
   ]
  },
  {
   "cell_type": "code",
   "execution_count": 176,
   "metadata": {},
   "outputs": [],
   "source": [
    "def collecter_time_res(solver_set,keys,res_tab,time_tab):\n",
    "    for key in keys:\n",
    "        res_tab.append(solver_set[key]['result'])\n",
    "        time_tab.append(solver_set[key]['time'])\n",
    "\n",
    "collecter_time_res(cplex_opl,Gene_keys,results_opl,time_opl)\n",
    "collecter_time_res(python_localSolver,Gene_keys,results_pyt_ls,time_pyt_ls)\n",
    "collecter_time_res(lsp,Gene_keys,res_lsp,time_lsp)\n",
    "\n",
    "# ajouter results dans grand tableau\n",
    "all_solvers_restab.append(results_opl)\n",
    "all_solvers_restab.append(results_pyt_ls)\n",
    "all_solvers_restab.append(res_lsp)\n",
    "# ajouter time dans grand tableau\n",
    "all_solvers_timetab.append(time_opl)\n",
    "all_solvers_timetab.append(time_pyt_ls)\n",
    "all_solvers_timetab.append(time_lsp)\n",
    "\n"
   ]
  },
  {
   "cell_type": "code",
   "execution_count": 190,
   "metadata": {},
   "outputs": [],
   "source": [
    "#把上面的Gurobi算出的答案找出来然后保存\n",
    "Gurobi_time = df_info_time.loc[\"Formulation2\"].tolist()\n",
    "Gurobi_results = df_info_obj.loc[\"Formulation2\"].tolist()\n",
    "#保存到list里面\n",
    "all_solvers_timetab.insert(0,Gurobi_time)\n",
    "all_solvers_restab.insert(0,Gurobi_results)"
   ]
  },
  {
   "cell_type": "code",
   "execution_count": 188,
   "metadata": {},
   "outputs": [],
   "source": [
    "index_solvers = ['Gurobi(PLNE)','Cplex_opl(PLNE)','LocaSolver(PLNE)','LocalSover programming']\n",
    "pd_time_comparaison = pd.DataFrame(all_solvers_timetab,index = index_solvers,columns = Gene_keys).T"
   ]
  },
  {
   "cell_type": "code",
   "execution_count": 189,
   "metadata": {},
   "outputs": [
    {
     "data": {
      "text/html": [
       "<div>\n",
       "<style scoped>\n",
       "    .dataframe tbody tr th:only-of-type {\n",
       "        vertical-align: middle;\n",
       "    }\n",
       "\n",
       "    .dataframe tbody tr th {\n",
       "        vertical-align: top;\n",
       "    }\n",
       "\n",
       "    .dataframe thead th {\n",
       "        text-align: right;\n",
       "    }\n",
       "</style>\n",
       "<table border=\"1\" class=\"dataframe\">\n",
       "  <thead>\n",
       "    <tr style=\"text-align: right;\">\n",
       "      <th></th>\n",
       "      <th>Gurobi(PLNE)</th>\n",
       "      <th>Cplex_opl(PLNE)</th>\n",
       "      <th>LocaSolver(PLNE)</th>\n",
       "      <th>LocalSover programming</th>\n",
       "    </tr>\n",
       "  </thead>\n",
       "  <tbody>\n",
       "    <tr>\n",
       "      <th>Gene10_10</th>\n",
       "      <td>0.0184519</td>\n",
       "      <td>0.01</td>\n",
       "      <td>0.0174099</td>\n",
       "      <td>0-1</td>\n",
       "    </tr>\n",
       "    <tr>\n",
       "      <th>Gene20_5</th>\n",
       "      <td>0.0187349</td>\n",
       "      <td>0.0023</td>\n",
       "      <td>0.00889416</td>\n",
       "      <td>0-1</td>\n",
       "    </tr>\n",
       "    <tr>\n",
       "      <th>Gene20_20</th>\n",
       "      <td>0.0471559</td>\n",
       "      <td>0.045</td>\n",
       "      <td>0.0553098</td>\n",
       "      <td>0-1</td>\n",
       "    </tr>\n",
       "    <tr>\n",
       "      <th>Gene30_20</th>\n",
       "      <td>0.048002</td>\n",
       "      <td>0.03</td>\n",
       "      <td>0.0751477</td>\n",
       "      <td>0-1</td>\n",
       "    </tr>\n",
       "    <tr>\n",
       "      <th>Gene30_30</th>\n",
       "      <td>0.122106</td>\n",
       "      <td>0.16</td>\n",
       "      <td>0.537905</td>\n",
       "      <td>0-1</td>\n",
       "    </tr>\n",
       "    <tr>\n",
       "      <th>Gene40_50</th>\n",
       "      <td>0.431715</td>\n",
       "      <td>0.41</td>\n",
       "      <td>2</td>\n",
       "      <td>0.52</td>\n",
       "    </tr>\n",
       "    <tr>\n",
       "      <th>Gene300_50</th>\n",
       "      <td>0.778826</td>\n",
       "      <td>0.64</td>\n",
       "      <td>5.34259</td>\n",
       "      <td>2</td>\n",
       "    </tr>\n",
       "    <tr>\n",
       "      <th>Gene100_80</th>\n",
       "      <td>7.69163</td>\n",
       "      <td>13.94</td>\n",
       "      <td>1109</td>\n",
       "      <td>16</td>\n",
       "    </tr>\n",
       "    <tr>\n",
       "      <th>Gene200_80</th>\n",
       "      <td>12.247</td>\n",
       "      <td>69.96</td>\n",
       "      <td>2000+</td>\n",
       "      <td>80</td>\n",
       "    </tr>\n",
       "  </tbody>\n",
       "</table>\n",
       "</div>"
      ],
      "text/plain": [
       "           Gurobi(PLNE) Cplex_opl(PLNE) LocaSolver(PLNE)  \\\n",
       "Gene10_10     0.0184519            0.01        0.0174099   \n",
       "Gene20_5      0.0187349          0.0023       0.00889416   \n",
       "Gene20_20     0.0471559           0.045        0.0553098   \n",
       "Gene30_20      0.048002            0.03        0.0751477   \n",
       "Gene30_30      0.122106            0.16         0.537905   \n",
       "Gene40_50      0.431715            0.41                2   \n",
       "Gene300_50     0.778826            0.64          5.34259   \n",
       "Gene100_80      7.69163           13.94             1109   \n",
       "Gene200_80       12.247           69.96            2000+   \n",
       "\n",
       "           LocalSover programming  \n",
       "Gene10_10                     0-1  \n",
       "Gene20_5                      0-1  \n",
       "Gene20_20                     0-1  \n",
       "Gene30_20                     0-1  \n",
       "Gene30_30                     0-1  \n",
       "Gene40_50                    0.52  \n",
       "Gene300_50                      2  \n",
       "Gene100_80                     16  \n",
       "Gene200_80                     80  "
      ]
     },
     "execution_count": 189,
     "metadata": {},
     "output_type": "execute_result"
    }
   ],
   "source": [
    "pd_time_comparaison"
   ]
  },
  {
   "cell_type": "code",
   "execution_count": 191,
   "metadata": {},
   "outputs": [
    {
     "data": {
      "text/html": [
       "<div>\n",
       "<style scoped>\n",
       "    .dataframe tbody tr th:only-of-type {\n",
       "        vertical-align: middle;\n",
       "    }\n",
       "\n",
       "    .dataframe tbody tr th {\n",
       "        vertical-align: top;\n",
       "    }\n",
       "\n",
       "    .dataframe thead th {\n",
       "        text-align: right;\n",
       "    }\n",
       "</style>\n",
       "<table border=\"1\" class=\"dataframe\">\n",
       "  <thead>\n",
       "    <tr style=\"text-align: right;\">\n",
       "      <th></th>\n",
       "      <th>Gurobi(PLNE)</th>\n",
       "      <th>Cplex_opl(PLNE)</th>\n",
       "      <th>LocaSolver(PLNE)</th>\n",
       "      <th>LocalSover programming</th>\n",
       "    </tr>\n",
       "  </thead>\n",
       "  <tbody>\n",
       "    <tr>\n",
       "      <th>Gene10_10</th>\n",
       "      <td>26.200000</td>\n",
       "      <td>26.200000</td>\n",
       "      <td>26.200000</td>\n",
       "      <td>26.200000</td>\n",
       "    </tr>\n",
       "    <tr>\n",
       "      <th>Gene20_5</th>\n",
       "      <td>5.350000</td>\n",
       "      <td>5.350000</td>\n",
       "      <td>5.350000</td>\n",
       "      <td>5.350000</td>\n",
       "    </tr>\n",
       "    <tr>\n",
       "      <th>Gene20_20</th>\n",
       "      <td>110.400000</td>\n",
       "      <td>110.400000</td>\n",
       "      <td>110.400000</td>\n",
       "      <td>110.400000</td>\n",
       "    </tr>\n",
       "    <tr>\n",
       "      <th>Gene30_20</th>\n",
       "      <td>106.100000</td>\n",
       "      <td>106.100002</td>\n",
       "      <td>106.100002</td>\n",
       "      <td>106.100000</td>\n",
       "    </tr>\n",
       "    <tr>\n",
       "      <th>Gene30_30</th>\n",
       "      <td>244.633326</td>\n",
       "      <td>244.633326</td>\n",
       "      <td>244.633326</td>\n",
       "      <td>244.630000</td>\n",
       "    </tr>\n",
       "    <tr>\n",
       "      <th>Gene40_50</th>\n",
       "      <td>428.520000</td>\n",
       "      <td>428.520000</td>\n",
       "      <td>428.520000</td>\n",
       "      <td>428.520000</td>\n",
       "    </tr>\n",
       "    <tr>\n",
       "      <th>Gene300_50</th>\n",
       "      <td>638.196659</td>\n",
       "      <td>638.196666</td>\n",
       "      <td>638.196659</td>\n",
       "      <td>638.196659</td>\n",
       "    </tr>\n",
       "    <tr>\n",
       "      <th>Gene100_80</th>\n",
       "      <td>1703.210000</td>\n",
       "      <td>1703.190000</td>\n",
       "      <td>1703.230000</td>\n",
       "      <td>1703.230000</td>\n",
       "    </tr>\n",
       "    <tr>\n",
       "      <th>Gene200_80</th>\n",
       "      <td>1646.420000</td>\n",
       "      <td>1646.380000</td>\n",
       "      <td>1646.380000</td>\n",
       "      <td>1646.420000</td>\n",
       "    </tr>\n",
       "  </tbody>\n",
       "</table>\n",
       "</div>"
      ],
      "text/plain": [
       "            Gurobi(PLNE)  Cplex_opl(PLNE)  LocaSolver(PLNE)  \\\n",
       "Gene10_10      26.200000        26.200000         26.200000   \n",
       "Gene20_5        5.350000         5.350000          5.350000   \n",
       "Gene20_20     110.400000       110.400000        110.400000   \n",
       "Gene30_20     106.100000       106.100002        106.100002   \n",
       "Gene30_30     244.633326       244.633326        244.633326   \n",
       "Gene40_50     428.520000       428.520000        428.520000   \n",
       "Gene300_50    638.196659       638.196666        638.196659   \n",
       "Gene100_80   1703.210000      1703.190000       1703.230000   \n",
       "Gene200_80   1646.420000      1646.380000       1646.380000   \n",
       "\n",
       "            LocalSover programming  \n",
       "Gene10_10                26.200000  \n",
       "Gene20_5                  5.350000  \n",
       "Gene20_20               110.400000  \n",
       "Gene30_20               106.100000  \n",
       "Gene30_30               244.630000  \n",
       "Gene40_50               428.520000  \n",
       "Gene300_50              638.196659  \n",
       "Gene100_80             1703.230000  \n",
       "Gene200_80             1646.420000  "
      ]
     },
     "execution_count": 191,
     "metadata": {},
     "output_type": "execute_result"
    }
   ],
   "source": [
    "pd_res_comparaison = pd.DataFrame(all_solvers_restab,index = index_solvers,columns = Gene_keys).T\n",
    "pd_res_comparaison"
   ]
  }
 ],
 "metadata": {
  "kernelspec": {
   "display_name": "Python 3",
   "language": "python",
   "name": "python3"
  },
  "language_info": {
   "codemirror_mode": {
    "name": "ipython",
    "version": 3
   },
   "file_extension": ".py",
   "mimetype": "text/x-python",
   "name": "python",
   "nbconvert_exporter": "python",
   "pygments_lexer": "ipython3",
   "version": "3.7.6"
  }
 },
 "nbformat": 4,
 "nbformat_minor": 4
}
