{
 "cells": [
  {
   "cell_type": "code",
   "execution_count": 17,
   "metadata": {},
   "outputs": [],
   "source": [
    "import random\n",
    "\n",
    "mat_classement = []\n",
    "start = [x for x in range(0, 10)] # 0 -> 9"
   ]
  },
  {
   "cell_type": "code",
   "execution_count": 3,
   "metadata": {},
   "outputs": [
    {
     "name": "stdout",
     "output_type": "stream",
     "text": [
      "[4, 1, 8, 7, 3, 5, 9, 10, 2, 6]\n",
      "[10, 1, 2, 3, 7, 6, 4, 8, 5, 9]\n",
      "[6, 2, 7, 3, 10, 9, 5, 8, 4, 1]\n",
      "[3, 8, 7, 2, 4, 1, 9, 5, 10, 6]\n",
      "[7, 3, 8, 2, 6, 5, 9, 10, 4, 1]\n",
      "[9, 10, 5, 3, 2, 8, 6, 1, 7, 4]\n",
      "[6, 9, 5, 4, 8, 3, 10, 1, 2, 7]\n",
      "[4, 5, 3, 10, 7, 1, 6, 8, 9, 2]\n",
      "[1, 2, 7, 3, 8, 6, 5, 9, 10, 4]\n",
      "[6, 2, 10, 5, 1, 9, 7, 8, 4, 3]\n",
      "[7, 4, 5, 10, 9, 8, 2, 1, 3, 6]\n",
      "[3, 8, 4, 5, 10, 7, 9, 2, 6, 1]\n",
      "[4, 7, 3, 8, 5, 2, 6, 10, 9, 1]\n",
      "[9, 5, 8, 3, 10, 2, 7, 6, 4, 1]\n",
      "[4, 3, 9, 6, 5, 1, 10, 8, 2, 7]\n",
      "[9, 10, 1, 6, 7, 2, 3, 4, 8, 5]\n",
      "[2, 1, 7, 3, 4, 8, 9, 10, 5, 6]\n",
      "[3, 7, 5, 1, 6, 10, 4, 8, 2, 9]\n",
      "[9, 1, 7, 6, 2, 3, 10, 5, 4, 8]\n",
      "[10, 6, 8, 4, 3, 5, 9, 2, 1, 7]\n"
     ]
    }
   ],
   "source": [
    "import random;\n",
    " \n",
    "#1、利用递归生成\n",
    "resultList=[];#用于存放结果的List\n",
    "A=1; #最小随机数\n",
    "B=10 #最大随机数\n",
    "COUNT=10\n",
    " \n",
    "#2、利用Python中的randomw.sample()函数实现\n",
    "\n",
    "for i in range(20):\n",
    "    \n",
    "    resultList=random.sample(range(A,B+1),COUNT); # sample(x,y)函数的作用是从序列x中，随机选择y个不重复的元素。上面的方法写了那么多，其实Python一句话就完成了。\n",
    "    mat_classement.append(resultList)\n",
    "    print(resultList)# 打印结果\n"
   ]
  },
  {
   "cell_type": "code",
   "execution_count": 4,
   "metadata": {},
   "outputs": [],
   "source": [
    "mat_classement = []\n",
    "def generateLists(A,B,COUNT,NBligne):\n",
    "    for i in range(NBligne):\n",
    "        resultList = random.sample(range(A,B+1),COUNT)\n",
    "        mat_classement.append(resultList)\n",
    "generateLists(A,B,COUNT,20)"
   ]
  },
  {
   "cell_type": "code",
   "execution_count": 5,
   "metadata": {},
   "outputs": [
    {
     "data": {
      "text/plain": [
       "[[7, 3, 1, 8, 4, 9, 2, 5, 6, 10],\n",
       " [1, 7, 4, 2, 6, 5, 3, 10, 9, 8],\n",
       " [8, 2, 7, 3, 9, 4, 10, 5, 6, 1],\n",
       " [9, 5, 1, 10, 2, 8, 4, 7, 3, 6],\n",
       " [2, 7, 9, 1, 6, 10, 4, 5, 3, 8],\n",
       " [5, 7, 2, 1, 4, 10, 3, 9, 8, 6],\n",
       " [9, 8, 6, 2, 4, 7, 3, 1, 10, 5],\n",
       " [8, 1, 9, 7, 6, 4, 3, 2, 10, 5],\n",
       " [7, 9, 8, 6, 10, 4, 1, 2, 3, 5],\n",
       " [3, 4, 2, 5, 9, 10, 1, 7, 6, 8],\n",
       " [7, 1, 3, 9, 8, 5, 2, 4, 10, 6],\n",
       " [6, 5, 9, 10, 8, 4, 2, 7, 1, 3],\n",
       " [6, 8, 7, 3, 1, 9, 2, 10, 5, 4],\n",
       " [9, 3, 10, 7, 4, 1, 8, 6, 2, 5],\n",
       " [1, 6, 10, 2, 4, 7, 5, 3, 9, 8],\n",
       " [4, 10, 8, 5, 1, 6, 2, 9, 3, 7],\n",
       " [9, 4, 10, 8, 1, 2, 3, 5, 7, 6],\n",
       " [9, 3, 8, 5, 10, 1, 4, 7, 2, 6],\n",
       " [7, 8, 6, 5, 4, 10, 3, 9, 1, 2],\n",
       " [10, 9, 3, 2, 5, 1, 8, 6, 7, 4]]"
      ]
     },
     "execution_count": 5,
     "metadata": {},
     "output_type": "execute_result"
    }
   ],
   "source": [
    "mat_classement "
   ]
  },
  {
   "cell_type": "code",
   "execution_count": 38,
   "metadata": {},
   "outputs": [
    {
     "data": {
      "text/plain": [
       "[['D', 'G', 'F', 'E', 'A', 'J', 'I', 'B', 'H', 'C'],\n",
       " ['J', 'I', 'E', 'F', 'C', 'H', 'B', 'G', 'A', 'D'],\n",
       " ['I', 'C', 'E', 'F', 'J', 'B', 'H', 'A', 'D', 'G'],\n",
       " ['D', 'B', 'G', 'I', 'F', 'E', 'C', 'J', 'H', 'A'],\n",
       " ['B', 'I', 'D', 'E', 'A', 'J', 'H', 'C', 'F', 'G'],\n",
       " ['H', 'C', 'A', 'E', 'D', 'G', 'I', 'J', 'B', 'F'],\n",
       " ['F', 'B', 'G', 'I', 'A', 'E', 'C', 'J', 'H', 'D'],\n",
       " ['C', 'B', 'A', 'D', 'I', 'J', 'F', 'G', 'H', 'E'],\n",
       " ['F', 'J', 'G', 'A', 'I', 'H', 'D', 'B', 'C', 'E'],\n",
       " ['C', 'J', 'B', 'G', 'A', 'D', 'H', 'F', 'E', 'I'],\n",
       " ['A', 'I', 'J', 'G', 'B', 'C', 'D', 'H', 'E', 'F'],\n",
       " ['J', 'A', 'D', 'F', 'H', 'I', 'C', 'G', 'B', 'E'],\n",
       " ['C', 'H', 'J', 'E', 'A', 'F', 'D', 'I', 'G', 'B'],\n",
       " ['H', 'J', 'G', 'C', 'I', 'F', 'B', 'D', 'A', 'E'],\n",
       " ['D', 'E', 'C', 'F', 'J', 'A', 'B', 'H', 'G', 'I'],\n",
       " ['B', 'C', 'G', 'A', 'F', 'E', 'J', 'I', 'H', 'D'],\n",
       " ['C', 'F', 'B', 'E', 'H', 'I', 'J', 'A', 'G', 'D'],\n",
       " ['F', 'C', 'E', 'A', 'H', 'I', 'J', 'G', 'B', 'D'],\n",
       " ['F', 'H', 'I', 'E', 'B', 'D', 'C', 'G', 'J', 'A'],\n",
       " ['A', 'J', 'H', 'C', 'B', 'G', 'E', 'F', 'D', 'I']]"
      ]
     },
     "execution_count": 38,
     "metadata": {},
     "output_type": "execute_result"
    }
   ],
   "source": [
    "Gene = ['A','B','C','D','E','F','G','H','I','J','K','L','M','N','O','P','Q','R','S','T']\n",
    "start_conb= [Gene[i] for i in range(0,10)] #初始序列状态\n",
    "[[start_conb[mat_classement[i][j] -1 ] for j in range(0,10)] for i in range(len(mat_classement))]"
   ]
  },
  {
   "cell_type": "code",
   "execution_count": 6,
   "metadata": {},
   "outputs": [
    {
     "data": {
      "text/plain": [
       "[[0.0, 0.65, 0.55, 0.55, 0.55, 0.7, 0.45, 0.5, 0.4, 0.5],\n",
       " [0.35, 0.0, 0.55, 0.45, 0.65, 0.55, 0.5, 0.35, 0.35, 0.5],\n",
       " [0.45, 0.45, 0.0, 0.4, 0.6, 0.5, 0.3, 0.5, 0.45, 0.5],\n",
       " [0.45, 0.55, 0.6, 0.0, 0.6, 0.55, 0.4, 0.4, 0.35, 0.55],\n",
       " [0.45, 0.35, 0.4, 0.4, 0.0, 0.5, 0.4, 0.4, 0.35, 0.45],\n",
       " [0.3, 0.45, 0.5, 0.45, 0.5, 0.0, 0.3, 0.3, 0.3, 0.5],\n",
       " [0.55, 0.5, 0.7, 0.6, 0.6, 0.7, 0.0, 0.5, 0.5, 0.55],\n",
       " [0.5, 0.65, 0.5, 0.6, 0.6, 0.7, 0.5, 0.0, 0.3, 0.45],\n",
       " [0.6, 0.65, 0.55, 0.65, 0.65, 0.7, 0.5, 0.7, 0.0, 0.7],\n",
       " [0.5, 0.5, 0.5, 0.45, 0.55, 0.5, 0.45, 0.55, 0.3, 0.0]]"
      ]
     },
     "execution_count": 6,
     "metadata": {},
     "output_type": "execute_result"
    }
   ],
   "source": [
    "from itertools import product\n",
    "\n",
    "wij_table = []\n",
    "for j in range(len(start)):\n",
    "    wij_table.append([0 for i in range(len(start))])\n",
    "def compterAllPairs():\n",
    "    setstart = set(start)\n",
    "    for ele in mat_classement:\n",
    "       \n",
    "        for i,j in product(setstart,setstart):\n",
    "            if i != j :\n",
    "                if(ele.index(i+1) < ele.index(j+1) ):\n",
    "                    wij_table[i][j] += 1\n",
    "    # calculer toutes les probabilites        \n",
    "    for i,j in product(setstart,setstart):\n",
    "        wij_table[i][j]/= len(mat_classement)\n",
    "\n",
    "\n",
    "compterAllPairs()\n",
    "wij_table         \n",
    "        \n",
    "    "
   ]
  },
  {
   "cell_type": "code",
   "execution_count": 40,
   "metadata": {},
   "outputs": [],
   "source": [
    "import numpy as np\n",
    "wij_table = np.loadtxt('./Gene200_80.txt',delimiter=',')\n",
    "length = len(wij_table)\n",
    "start2 = [i for i in range(length)]"
   ]
  },
  {
   "cell_type": "markdown",
   "metadata": {},
   "source": [
    "# CBC python mip"
   ]
  },
  {
   "cell_type": "code",
   "execution_count": 42,
   "metadata": {},
   "outputs": [
    {
     "name": "stdout",
     "output_type": "stream",
     "text": [
      "OptimizationStatus.OPTIMAL\n",
      "route with total distance 1646.43 found: It takes 99.13146890400003\n"
     ]
    }
   ],
   "source": [
    "from mip import Model, xsum, maximize,BINARY\n",
    "from sys import stdout as out\n",
    "from itertools import product\n",
    "import time\n",
    "\n",
    "solution = []\n",
    "\n",
    "model = Model()\n",
    "x = [[model.add_var(var_type=BINARY) for j in range(length)] for i in range(length)]\n",
    "y = [[model.add_var(var_type=BINARY) for j in range(length)] for i in range(length)]\n",
    "n = [model.add_var() for i in range(length)]\n",
    "setstart = set(start2)\n",
    "model.objective = maximize(\n",
    "    xsum(wij_table[i][j]*x[i][j] for j in range(length) for i in range(length))\n",
    ")\n",
    "\n",
    "# constraint 1\n",
    "for i in setstart:\n",
    "    model += x[i][i] <= 0\n",
    "# constraint 2\n",
    "for i in range(length):\n",
    "    for j in range(length):\n",
    "        if(i < j):\n",
    "            model += x[i][j] + x[j][i] ==1\n",
    "# new constraint 4\n",
    "for i in range(length):\n",
    "    for j in range(length):\n",
    "        if(i < j):\n",
    "            model += y[i][j] <= x[i][j]\n",
    "# new constraint 5\n",
    "for i in range(length):\n",
    "    for j in range(length):\n",
    "        for k in range(length):\n",
    "            model += x[i][j] + y[j][i] + x[j][k] + x[k][i] <= 2\n",
    "            \n",
    "start_slot = time.process_time()\n",
    "status = model.optimize()\n",
    "end_slot = time.process_time()\n",
    "# print(model.num_solutions)\n",
    "print(status)\n",
    "# print(model.num_solutions)\n",
    "# print(model.objective_value)\n",
    "result_matrix = []\n",
    "if (model.num_solutions):\n",
    "           #print(self.m.objective_value)\n",
    "            out.write('route with total distance %g found: '\n",
    "              % (model.objective_value))\n",
    "            for xi in x:\n",
    "                xList = []\n",
    "                for xij in xi:\n",
    "                    xList.append(xij.x)\n",
    "                result_matrix.append(xList)\n",
    "                \n",
    "print('It takes',end_slot - start_slot)"
   ]
  },
  {
   "cell_type": "code",
   "execution_count": 16,
   "metadata": {},
   "outputs": [
    {
     "data": {
      "text/plain": [
       "[2.0, 4.0, 1.0, 8.0, 7.0, 6.0, 0.0, 5.0, 9.0, 3.0]"
      ]
     },
     "execution_count": 16,
     "metadata": {},
     "output_type": "execute_result"
    }
   ],
   "source": [
    "# result_matrix\n",
    "sommtab = [sum(l) for l in result_matrix]\n",
    "sommtab"
   ]
  },
  {
   "cell_type": "code",
   "execution_count": 18,
   "metadata": {},
   "outputs": [
    {
     "data": {
      "text/plain": [
       "[7, 3, 1, 10, 2, 8, 6, 5, 4, 9]"
      ]
     },
     "execution_count": 18,
     "metadata": {},
     "output_type": "execute_result"
    }
   ],
   "source": [
    "final_classement = [sommtab.index(i)+1 for i in range(len(start2))]\n",
    "final_classement"
   ]
  },
  {
   "cell_type": "code",
   "execution_count": null,
   "metadata": {},
   "outputs": [],
   "source": [
    "# cons1 = [[x[i][j] + x[j][i] == 1 for j in setstart-{i}] for i in setstart]\n",
    "#     cons2 = [x[i][i] <= 0 for i in setstart]\n",
    "#     cons3 = [[[x[i][k] >= x[i][j] + x[j][k] - 1 for k in (setstart-{i}-{j})] for j in (setstart-{i})] for i in setstart]\n",
    "#     cons = [cons1,cons2,cons3]"
   ]
  },
  {
   "cell_type": "code",
   "execution_count": 103,
   "metadata": {},
   "outputs": [
    {
     "data": {
      "text/plain": [
       "[9, 4, 5, 6, 8, 2, 10, 1, 3, 7]"
      ]
     },
     "execution_count": 103,
     "metadata": {},
     "output_type": "execute_result"
    }
   ],
   "source": [
    "temp = [7,5,8,1,2,3,9,4,0,6]\n",
    "\n",
    "classement_final = [temp.index(i)+1 for i in range(len(start))]\n",
    "classement_final"
   ]
  },
  {
   "cell_type": "code",
   "execution_count": null,
   "metadata": {},
   "outputs": [],
   "source": []
  },
  {
   "cell_type": "code",
   "execution_count": null,
   "metadata": {},
   "outputs": [],
   "source": []
  },
  {
   "cell_type": "code",
   "execution_count": null,
   "metadata": {},
   "outputs": [],
   "source": []
  },
  {
   "cell_type": "code",
   "execution_count": null,
   "metadata": {},
   "outputs": [],
   "source": []
  }
 ],
 "metadata": {
  "kernelspec": {
   "display_name": "Python 3",
   "language": "python",
   "name": "python3"
  },
  "language_info": {
   "codemirror_mode": {
    "name": "ipython",
    "version": 3
   },
   "file_extension": ".py",
   "mimetype": "text/x-python",
   "name": "python",
   "nbconvert_exporter": "python",
   "pygments_lexer": "ipython3",
   "version": "3.7.6"
  }
 },
 "nbformat": 4,
 "nbformat_minor": 4
}
