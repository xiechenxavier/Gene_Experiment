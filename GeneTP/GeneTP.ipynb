{
 "cells": [
  {
   "cell_type": "code",
   "execution_count": 36,
   "metadata": {},
   "outputs": [
    {
     "name": "stdout",
     "output_type": "stream",
     "text": [
      "None\n",
      "None\n",
      "None\n",
      "None\n",
      "None\n",
      "None\n",
      "None\n",
      "None\n",
      "None\n",
      "None\n",
      "None\n",
      "None\n",
      "None\n",
      "None\n",
      "None\n",
      "None\n",
      "None\n",
      "None\n",
      "None\n",
      "None\n"
     ]
    }
   ],
   "source": [
    "import random\n",
    "\n",
    "mat_classement = []\n",
    "start = [x for x in range(0, 10)] # 0 -> 9\n",
    "mat_classement.append(start)\n",
    "for i in range(20):\n",
    "    curr_rank = random.shuffle(mat_classement)\n",
    "    print(curr_rank)\n",
    "    mat_classement.append(curr_rank )\n"
   ]
  },
  {
   "cell_type": "code",
   "execution_count": 2,
   "metadata": {},
   "outputs": [],
   "source": [
    "mat_classement = []"
   ]
  },
  {
   "cell_type": "code",
   "execution_count": 3,
   "metadata": {},
   "outputs": [
    {
     "name": "stdout",
     "output_type": "stream",
     "text": [
      "[5, 6, 8, 3, 7, 1, 4, 9, 10, 2]\n",
      "[6, 9, 1, 7, 8, 2, 3, 4, 5, 10]\n",
      "[3, 2, 9, 1, 7, 5, 10, 6, 8, 4]\n",
      "[7, 5, 6, 8, 1, 4, 3, 10, 2, 9]\n",
      "[2, 6, 8, 4, 9, 3, 7, 1, 5, 10]\n",
      "[3, 10, 9, 7, 2, 5, 8, 4, 1, 6]\n",
      "[1, 4, 6, 3, 7, 8, 9, 10, 2, 5]\n",
      "[10, 5, 4, 9, 2, 3, 7, 1, 8, 6]\n",
      "[7, 6, 8, 10, 9, 1, 4, 3, 5, 2]\n",
      "[2, 8, 3, 1, 10, 5, 6, 9, 7, 4]\n",
      "[6, 10, 7, 5, 3, 4, 8, 2, 9, 1]\n",
      "[7, 2, 1, 9, 3, 10, 6, 4, 8, 5]\n",
      "[6, 1, 4, 3, 10, 7, 9, 2, 8, 5]\n",
      "[5, 10, 1, 4, 7, 2, 9, 3, 8, 6]\n",
      "[1, 9, 3, 7, 6, 4, 5, 2, 8, 10]\n",
      "[5, 3, 9, 6, 1, 2, 7, 4, 8, 10]\n",
      "[3, 8, 6, 2, 9, 4, 10, 7, 1, 5]\n",
      "[9, 5, 3, 1, 10, 7, 6, 4, 2, 8]\n",
      "[2, 8, 4, 9, 7, 1, 5, 6, 3, 10]\n",
      "[6, 2, 3, 5, 9, 8, 4, 10, 7, 1]\n"
     ]
    }
   ],
   "source": [
    "import random;\n",
    " \n",
    "#1、利用递归生成\n",
    "resultList=[];#用于存放结果的List\n",
    "A=1; #最小随机数\n",
    "B=10 #最大随机数\n",
    "COUNT=10\n",
    " \n",
    "#2、利用Python中的randomw.sample()函数实现\n",
    "\n",
    "for i in range(20):\n",
    "    \n",
    "    resultList=random.sample(range(A,B+1),COUNT); # sample(x,y)函数的作用是从序列x中，随机选择y个不重复的元素。上面的方法写了那么多，其实Python一句话就完成了。\n",
    "    mat_classement.append(resultList)\n",
    "    print(resultList)# 打印结果\n"
   ]
  },
  {
   "cell_type": "code",
   "execution_count": 4,
   "metadata": {},
   "outputs": [],
   "source": [
    "mat_classement = []\n",
    "def generateLists(A,B,COUNT,NBligne):\n",
    "    for i in range(NBligne):\n",
    "        resultList = random.sample(range(A,B+1),COUNT)\n",
    "        mat_classement.append(resultList)\n",
    "generateLists(A,B,COUNT,20)"
   ]
  },
  {
   "cell_type": "code",
   "execution_count": 5,
   "metadata": {},
   "outputs": [
    {
     "data": {
      "text/plain": [
       "[[4, 5, 2, 9, 10, 6, 7, 1, 3, 8],\n",
       " [3, 10, 7, 1, 5, 8, 4, 9, 2, 6],\n",
       " [5, 1, 10, 7, 4, 6, 9, 2, 3, 8],\n",
       " [6, 9, 2, 10, 4, 1, 7, 5, 3, 8],\n",
       " [8, 6, 4, 3, 9, 10, 2, 7, 5, 1],\n",
       " [2, 8, 3, 5, 9, 7, 4, 1, 6, 10],\n",
       " [2, 5, 7, 6, 3, 9, 8, 1, 4, 10],\n",
       " [8, 9, 6, 5, 10, 7, 4, 3, 1, 2],\n",
       " [5, 3, 2, 4, 9, 7, 6, 10, 8, 1],\n",
       " [4, 7, 6, 5, 9, 8, 10, 2, 1, 3],\n",
       " [1, 8, 9, 5, 7, 2, 6, 10, 3, 4],\n",
       " [2, 8, 5, 9, 6, 10, 7, 4, 1, 3],\n",
       " [2, 10, 3, 8, 9, 4, 5, 1, 6, 7],\n",
       " [3, 6, 9, 4, 10, 7, 1, 2, 8, 5],\n",
       " [1, 2, 4, 9, 3, 5, 8, 6, 7, 10],\n",
       " [4, 2, 3, 7, 9, 5, 6, 10, 8, 1],\n",
       " [6, 8, 3, 1, 7, 5, 4, 2, 9, 10],\n",
       " [6, 7, 8, 4, 5, 2, 10, 1, 3, 9],\n",
       " [9, 3, 10, 6, 7, 1, 5, 2, 8, 4],\n",
       " [4, 1, 5, 8, 3, 10, 6, 9, 7, 2]]"
      ]
     },
     "execution_count": 5,
     "metadata": {},
     "output_type": "execute_result"
    }
   ],
   "source": [
    "mat_classement "
   ]
  },
  {
   "cell_type": "code",
   "execution_count": 38,
   "metadata": {},
   "outputs": [
    {
     "data": {
      "text/plain": [
       "[['D', 'G', 'F', 'E', 'A', 'J', 'I', 'B', 'H', 'C'],\n",
       " ['J', 'I', 'E', 'F', 'C', 'H', 'B', 'G', 'A', 'D'],\n",
       " ['I', 'C', 'E', 'F', 'J', 'B', 'H', 'A', 'D', 'G'],\n",
       " ['D', 'B', 'G', 'I', 'F', 'E', 'C', 'J', 'H', 'A'],\n",
       " ['B', 'I', 'D', 'E', 'A', 'J', 'H', 'C', 'F', 'G'],\n",
       " ['H', 'C', 'A', 'E', 'D', 'G', 'I', 'J', 'B', 'F'],\n",
       " ['F', 'B', 'G', 'I', 'A', 'E', 'C', 'J', 'H', 'D'],\n",
       " ['C', 'B', 'A', 'D', 'I', 'J', 'F', 'G', 'H', 'E'],\n",
       " ['F', 'J', 'G', 'A', 'I', 'H', 'D', 'B', 'C', 'E'],\n",
       " ['C', 'J', 'B', 'G', 'A', 'D', 'H', 'F', 'E', 'I'],\n",
       " ['A', 'I', 'J', 'G', 'B', 'C', 'D', 'H', 'E', 'F'],\n",
       " ['J', 'A', 'D', 'F', 'H', 'I', 'C', 'G', 'B', 'E'],\n",
       " ['C', 'H', 'J', 'E', 'A', 'F', 'D', 'I', 'G', 'B'],\n",
       " ['H', 'J', 'G', 'C', 'I', 'F', 'B', 'D', 'A', 'E'],\n",
       " ['D', 'E', 'C', 'F', 'J', 'A', 'B', 'H', 'G', 'I'],\n",
       " ['B', 'C', 'G', 'A', 'F', 'E', 'J', 'I', 'H', 'D'],\n",
       " ['C', 'F', 'B', 'E', 'H', 'I', 'J', 'A', 'G', 'D'],\n",
       " ['F', 'C', 'E', 'A', 'H', 'I', 'J', 'G', 'B', 'D'],\n",
       " ['F', 'H', 'I', 'E', 'B', 'D', 'C', 'G', 'J', 'A'],\n",
       " ['A', 'J', 'H', 'C', 'B', 'G', 'E', 'F', 'D', 'I']]"
      ]
     },
     "execution_count": 38,
     "metadata": {},
     "output_type": "execute_result"
    }
   ],
   "source": [
    "Gene = ['A','B','C','D','E','F','G','H','I','J','K','L','M','N','O','P','Q','R','S','T']\n",
    "start_conb= [Gene[i] for i in range(0,10)] #初始序列状态\n",
    "[[start_conb[mat_classement[i][j] -1 ] for j in range(0,10)] for i in range(len(mat_classement))]"
   ]
  },
  {
   "cell_type": "code",
   "execution_count": 6,
   "metadata": {},
   "outputs": [
    {
     "data": {
      "text/plain": [
       "[[0.0, 0.45, 0.45, 0.35, 0.4, 0.35, 0.35, 0.45, 0.35, 0.35],\n",
       " [0.55, 0.0, 0.6, 0.45, 0.45, 0.5, 0.5, 0.6, 0.5, 0.6],\n",
       " [0.55, 0.4, 0.0, 0.45, 0.45, 0.45, 0.55, 0.55, 0.55, 0.55],\n",
       " [0.65, 0.55, 0.55, 0.0, 0.5, 0.5, 0.5, 0.45, 0.55, 0.6],\n",
       " [0.6, 0.55, 0.55, 0.5, 0.0, 0.6, 0.55, 0.55, 0.55, 0.7],\n",
       " [0.65, 0.5, 0.55, 0.5, 0.4, 0.0, 0.6, 0.55, 0.45, 0.7],\n",
       " [0.65, 0.5, 0.45, 0.5, 0.45, 0.4, 0.0, 0.55, 0.35, 0.45],\n",
       " [0.55, 0.4, 0.45, 0.55, 0.45, 0.45, 0.45, 0.0, 0.5, 0.55],\n",
       " [0.65, 0.5, 0.45, 0.45, 0.45, 0.55, 0.65, 0.5, 0.0, 0.75],\n",
       " [0.65, 0.4, 0.45, 0.4, 0.3, 0.3, 0.55, 0.45, 0.25, 0.0]]"
      ]
     },
     "execution_count": 6,
     "metadata": {},
     "output_type": "execute_result"
    }
   ],
   "source": [
    "from itertools import product\n",
    "\n",
    "wij_table = []\n",
    "for j in range(len(start)):\n",
    "    wij_table.append([0 for i in range(len(start))])\n",
    "def compterAllPairs():\n",
    "    setstart = set(start)\n",
    "    for ele in mat_classement:\n",
    "       \n",
    "        for i,j in product(setstart,setstart):\n",
    "            if i != j :\n",
    "                if(ele.index(i+1) < ele.index(j+1) ):\n",
    "                    wij_table[i][j] += 1\n",
    "    # calculer toutes les probabilites        \n",
    "    for i,j in product(setstart,setstart):\n",
    "        wij_table[i][j]/= len(mat_classement)\n",
    "\n",
    "\n",
    "compterAllPairs()\n",
    "wij_table         \n",
    "        \n",
    "    "
   ]
  },
  {
   "cell_type": "code",
   "execution_count": 37,
   "metadata": {},
   "outputs": [],
   "source": [
    "wij_table = [[0.0, 0.35, 0.7, 0.4, 0.35, 0.4, 0.45, 0.4, 0.45, 0.4],\n",
    " [0.65, 0.0, 0.6, 0.45, 0.5, 0.35, 0.65, 0.4, 0.5, 0.6],\n",
    " [0.3, 0.4, 0.0, 0.35, 0.5, 0.4, 0.6, 0.45, 0.35, 0.55],\n",
    " [0.6, 0.55, 0.65, 0.0, 0.55, 0.6, 0.65, 0.5, 0.45, 0.55],\n",
    " [0.65, 0.5, 0.5, 0.45, 0.0, 0.55, 0.6, 0.5, 0.4, 0.6],\n",
    " [0.6, 0.65, 0.6, 0.4, 0.45, 0.0, 0.7, 0.55, 0.45, 0.6],\n",
    " [0.55, 0.35, 0.4, 0.35, 0.4, 0.3, 0.0, 0.4, 0.25, 0.5],\n",
    " [0.6, 0.6, 0.55, 0.5, 0.5, 0.45, 0.6, 0.0, 0.4, 0.5],\n",
    " [0.55, 0.5, 0.65, 0.55, 0.6, 0.55, 0.75, 0.6, 0.0, 0.55],\n",
    " [0.6, 0.4, 0.45, 0.45, 0.4, 0.4, 0.5, 0.5, 0.45, 0.0]]"
   ]
  },
  {
   "cell_type": "code",
   "execution_count": 38,
   "metadata": {},
   "outputs": [
    {
     "name": "stdout",
     "output_type": "stream",
     "text": [
      "OptimizationStatus.OPTIMAL\n",
      "route with total distance 26.3 found: "
     ]
    }
   ],
   "source": [
    "from mip import Model, xsum, maximize,BINARY\n",
    "from sys import stdout as out\n",
    "from itertools import product\n",
    "\n",
    "solution = []\n",
    "\n",
    "model = Model()\n",
    "x = [[model.add_var(var_type=BINARY) for j in range(len(start))] for i in range(len(start))]\n",
    "n = [model.add_var() for i in range(len(start))]\n",
    "N = len(start)\n",
    "setstart = set(start)\n",
    "model.objective = maximize(\n",
    "    xsum(wij_table[i][j]*x[i][j] for i in setstart for j in setstart-{i} )\n",
    ")\n",
    "\n",
    "for i,j in product(setstart,setstart-{i}):\n",
    "    if(i < j):\n",
    "        model += x[i][j] + x[j][i] ==1\n",
    "\n",
    "for i in setstart:\n",
    "    model += x[i][i] <= 0\n",
    "\n",
    "for i,j in product(setstart,setstart-{i}):\n",
    "    model += n[j] + N*(1-x[i][j]) >= n[i] + 1\n",
    "#3 任意(i,j,k) x[i][k] >= x[i][j] + x[j][k] - 1\n",
    "# for i,j,k in product(setstart,setstart-{i},setstart-{i}-{j}):\n",
    "#     model += x[i][k] >= x[i][j] + x[j][k] - 1\n",
    "\n",
    "status = model.optimize()\n",
    "# print(model.num_solutions)\n",
    "print(status)\n",
    "# print(model.num_solutions)\n",
    "# print(model.objective_value)\n",
    "result_matrix = []\n",
    "if (model.num_solutions):\n",
    "           #print(self.m.objective_value)\n",
    "            out.write('route with total distance %g found: '\n",
    "              % (model.objective_value))\n",
    "            for xi in x:\n",
    "                xList = []\n",
    "                for xij in xi:\n",
    "                    xList.append(xij.x)\n",
    "                result_matrix.append(xList)\n",
    "      "
   ]
  },
  {
   "cell_type": "code",
   "execution_count": 40,
   "metadata": {},
   "outputs": [
    {
     "data": {
      "text/plain": [
       "[2.0, 4.0, 2.0, 8.0, 7.0, 6.0, 1.0, 5.0, 9.0, 1.0]"
      ]
     },
     "execution_count": 40,
     "metadata": {},
     "output_type": "execute_result"
    }
   ],
   "source": [
    "# result_matrix\n",
    "sommtab = [sum(l) for l in result_matrix]\n",
    "sommtab"
   ]
  },
  {
   "cell_type": "code",
   "execution_count": null,
   "metadata": {},
   "outputs": [],
   "source": [
    "# cons1 = [[x[i][j] + x[j][i] == 1 for j in setstart-{i}] for i in setstart]\n",
    "#     cons2 = [x[i][i] <= 0 for i in setstart]\n",
    "#     cons3 = [[[x[i][k] >= x[i][j] + x[j][k] - 1 for k in (setstart-{i}-{j})] for j in (setstart-{i})] for i in setstart]\n",
    "#     cons = [cons1,cons2,cons3]"
   ]
  },
  {
   "cell_type": "code",
   "execution_count": 103,
   "metadata": {},
   "outputs": [
    {
     "data": {
      "text/plain": [
       "[9, 4, 5, 6, 8, 2, 10, 1, 3, 7]"
      ]
     },
     "execution_count": 103,
     "metadata": {},
     "output_type": "execute_result"
    }
   ],
   "source": [
    "temp = [7,5,8,1,2,3,9,4,0,6]\n",
    "\n",
    "classement_final = [temp.index(i)+1 for i in range(len(start))]\n",
    "classement_final"
   ]
  },
  {
   "cell_type": "code",
   "execution_count": 109,
   "metadata": {},
   "outputs": [
    {
     "data": {
      "text/plain": [
       "{0, 1, 2, 3, 4, 5, 6, 7, 8, 9}"
      ]
     },
     "execution_count": 109,
     "metadata": {},
     "output_type": "execute_result"
    }
   ],
   "source": [
    "setstart"
   ]
  },
  {
   "cell_type": "code",
   "execution_count": null,
   "metadata": {},
   "outputs": [],
   "source": [
    "#Formulaltion5: 8,9,10,11\n",
    "        #varaibles y\n",
    "        self.y = self.m.addVars(self.index, self.columns, vtype=gurobipy.GRB.BINARY)\n",
    "        \n",
    "        #variables f[i] == true iff i is the first gene in ranking\n",
    "        self.f = self.m.addVars(self.index, vtype=gurobipy.GRB.BINARY)\n",
    "        \n",
    "        #variables l[i] == true iff i is the last gene in ranking\n",
    "        self.l = self.m.addVars(self.index,vtype=gurobipy.GRB.BINARY)\n",
    "        \n",
    "        #constraint 8,9\n",
    "        for i in range(0,len(self.index)):\n",
    "            self.m.addConstr(self.f[i]+gurobipy.quicksum(self.y[i,j] for j in range(0,self.columns))==1)\n",
    "            self.m.addConstr(self.l[i]+gurobipy.quicksum(self.y[i,j] for j in range(0,self.columns))==1)\n",
    "        #constraint 10\n",
    "        self.m.addConstr(gurobipy.quicksum(self.f[i] for i in range(0,self.index))==1)\n",
    "        #constraint 11\n",
    "        self.m.addConstr(gurobipy.quicksum(self.l[i] for i in range(0,self.index))==1)"
   ]
  },
  {
   "cell_type": "code",
   "execution_count": null,
   "metadata": {},
   "outputs": [],
   "source": [
    "       self.constraintPrincipal()\n",
    "        # variables z\n",
    "        self.z = self.m.addVars(self.index, self.columns,self.index, vtype=gurobipy.GRB.BINARY)\n",
    "        # variables y\n",
    "        self.y = self.m.addVars(self.index, self.columns, vtype=gurobipy.GRB.BINARY)\n",
    "        \n",
    "        for i in range(0,len(self.index)):\n",
    "            for j in range(0,len(self.columns)):\n",
    "                for k in range(0,len(self.index)):\n",
    "                    if(i!=j!=k):\n",
    "                        #constraint 14\n",
    "                        self.m.addConstr(self.z[i,j,k]+self.z[i,k,j]+self.z[j,i,k]+self.z[j,k,i]+self.z[k,i,j]+self.z[k,j,i] == 1)\n",
    "        #constraint 15-17\n",
    "        for i in range(0,len(self.index)):\n",
    "            for j in range(0,len(self.columns)):\n",
    "                for k in range(0,len(self.index)):            \n",
    "                    #constraint 15\n",
    "                    self.m.addConstr(self.z[i,j,k] <= self.x[i,j])\n",
    "                        \n",
    "                    #constraint 16\n",
    "                    self.m.addConstr(self.z[i,j,k] <= self.x[j,k])\n",
    "                        \n",
    "                    #constraint 17\n",
    "                    self.m.addConstr(self.z[i,j,k] <= self.x[i,k])\n",
    "                        \n",
    "                    #constraint 18\n",
    "                    self.m.addConstr(self.z[i,j,k] >= self.x[i,j]+self.x[j,k]-1)\n",
    "                        \n",
    "        for i in range(0,len(self.index)):\n",
    "            for j in range(0,len(self.columns)):\n",
    "                if(i!=j):\n",
    "                    #constraint 19\n",
    "                    self.m.addConstr(self.z[i,j,i] <= 0)"
   ]
  },
  {
   "cell_type": "code",
   "execution_count": null,
   "metadata": {},
   "outputs": [],
   "source": [
    "# variables z\n",
    "        self.z = self.m.addVars(self.index, self.columns,self.index, vtype=gurobipy.GRB.BINARY)\n",
    "        \n",
    "        for i in range(0,len(self.index)):\n",
    "            for j in range(0,len(self.columns)):\n",
    "                for k in range(0,len(self.index)):\n",
    "                    if(i!=j!=k):\n",
    "                        #constraint 14\n",
    "                        self.m.addConstr(self.z[i,j,k]+self.z[i,k,j]+self.z[j,i,k]+self.z[j,k,i]+self.z[k,i,j]+self.z[k,j,i] <= 1)\n",
    "        \n",
    "        self.y = self.m.addVars(self.index, self.columns, vtype=gurobipy.GRB.BINARY)\n",
    "         #new constraint 4\n",
    "        for i in range(0,len(self.index)):\n",
    "            for j in range(0, len(self.columns)):\n",
    "                if(i!=j):\n",
    "                    self.m.addConstr(self.y[i,j] <= self.x[i,j])\n",
    "        #new constraint 5\n",
    "        for i in range(0,len(self.index)):\n",
    "            for j in range(0,len(self.columns)):\n",
    "                for k in range(0,len(self.index)):\n",
    "                    if(i!=j!=k):\n",
    "                        self.m.addConstr(self.x[i,j] + self.y[j,i] + self.x[j,k]+ self.x[k,i] <= 2)"
   ]
  }
 ],
 "metadata": {
  "kernelspec": {
   "display_name": "Python 3",
   "language": "python",
   "name": "python3"
  },
  "language_info": {
   "codemirror_mode": {
    "name": "ipython",
    "version": 3
   },
   "file_extension": ".py",
   "mimetype": "text/x-python",
   "name": "python",
   "nbconvert_exporter": "python",
   "pygments_lexer": "ipython3",
   "version": "3.7.6"
  }
 },
 "nbformat": 4,
 "nbformat_minor": 4
}
